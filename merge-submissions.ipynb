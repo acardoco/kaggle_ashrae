{
 "cells": [
  {
   "cell_type": "code",
   "execution_count": 1,
   "metadata": {
    "_cell_guid": "b1076dfc-b9ad-4769-8c92-a6c4dae69d19",
    "_uuid": "8f2839f25d086af736a60e9eeb907d3b93b6e0e5"
   },
   "outputs": [
    {
     "name": "stderr",
     "output_type": "stream",
     "text": [
      "/opt/conda/lib/python3.6/site-packages/sklearn/externals/joblib/__init__.py:15: DeprecationWarning: sklearn.externals.joblib is deprecated in 0.21 and will be removed in 0.23. Please import this functionality directly from joblib, which can be installed with: pip install joblib. If this warning is raised when loading pickled models, you may need to re-serialize those models with scikit-learn 0.21+.\n",
      "  warnings.warn(msg, category=DeprecationWarning)\n"
     ]
    }
   ],
   "source": [
    "import gc\n",
    "import os\n",
    "import random\n",
    "\n",
    "import matplotlib.pyplot as plt\n",
    "\n",
    "import lightgbm as lgb\n",
    "from catboost import Pool, CatBoostRegressor\n",
    "import numpy as np\n",
    "import pandas as pd\n",
    "from tqdm import tqdm_notebook as tqdm\n",
    "\n",
    "from sklearn.metrics import mean_squared_error, mean_squared_log_error\n",
    "from sklearn.preprocessing import LabelEncoder\n",
    "from sklearn.model_selection import RandomizedSearchCV\n",
    "from sklearn.model_selection import KFold, GroupKFold\n",
    "from sklearn.externals import joblib\n",
    "from sklearn.linear_model import LinearRegression, Ridge\n",
    "\n",
    "# matplotlib and seaborn for plotting\n",
    "import matplotlib\n",
    "import matplotlib.pyplot as plt\n",
    "import seaborn as sns\n",
    "\n",
    "from pandas.plotting import register_matplotlib_converters\n",
    "register_matplotlib_converters()\n",
    "\n",
    "import calendar\n",
    "import datetime\n",
    "\n",
    "path_data = \"/kaggle/input/ashrae-energy-prediction/\"\n",
    "path_train = path_data + \"train.csv\"\n",
    "path_test = path_data + \"test.csv\"\n",
    "path_building = path_data + \"building_metadata.csv\"\n",
    "path_weather_train = path_data + \"weather_train.csv\"\n",
    "path_weather_test = path_data + \"weather_test.csv\"\n",
    "\n",
    "myfavouritenumber = 666\n",
    "seed = myfavouritenumber\n",
    "random.seed(seed)\n",
    "\n",
    "import xgboost as xgb\n",
    "from xgboost import plot_importance, plot_tree"
   ]
  },
  {
   "cell_type": "code",
   "execution_count": 2,
   "metadata": {},
   "outputs": [
    {
     "data": {
      "text/plain": [
       "['submissions-v251',\n",
       " 'ashrae-leak-data-station',\n",
       " 'energy-demand-submission-mystratify',\n",
       " 'ashrae-energy-prediction',\n",
       " 'ashrae-simple-data-cleanup-lb-1-08-no-leaks',\n",
       " 'ashrae-energy-prediction-using-stratified-kfold']"
      ]
     },
     "execution_count": 2,
     "metadata": {},
     "output_type": "execute_result"
    }
   ],
   "source": [
    "os.listdir('/kaggle/input/')"
   ]
  },
  {
   "cell_type": "code",
   "execution_count": 3,
   "metadata": {
    "_kg_hide-input": true
   },
   "outputs": [],
   "source": [
    "# Original code from https://www.kaggle.com/gemartin/load-data-reduce-memory-usage by @gemartin\n",
    "# Modified to support timestamp type, categorical type\n",
    "# Modified to add option to use float16 or not. feather format does not support float16.\n",
    "from pandas.api.types import is_datetime64_any_dtype as is_datetime\n",
    "from pandas.api.types import is_categorical_dtype\n",
    "\n",
    "def reduce_mem_usage(df, use_float16=False):\n",
    "    \"\"\" iterate through all the columns of a dataframe and modify the data type\n",
    "        to reduce memory usage.        \n",
    "    \"\"\"\n",
    "    start_mem = df.memory_usage().sum() / 1024**2\n",
    "    print('Memory usage of dataframe is {:.2f} MB'.format(start_mem))\n",
    "    \n",
    "    for col in df.columns:\n",
    "        if is_datetime(df[col]) or is_categorical_dtype(df[col]):\n",
    "            # skip datetime type or categorical type\n",
    "            continue\n",
    "        col_type = df[col].dtype\n",
    "        \n",
    "        if col_type != object:\n",
    "            c_min = df[col].min()\n",
    "            c_max = df[col].max()\n",
    "            if str(col_type)[:3] == 'int':\n",
    "                if c_min > np.iinfo(np.int8).min and c_max < np.iinfo(np.int8).max:\n",
    "                    df[col] = df[col].astype(np.int8)\n",
    "                elif c_min > np.iinfo(np.int16).min and c_max < np.iinfo(np.int16).max:\n",
    "                    df[col] = df[col].astype(np.int16)\n",
    "                elif c_min > np.iinfo(np.int32).min and c_max < np.iinfo(np.int32).max:\n",
    "                    df[col] = df[col].astype(np.int32)\n",
    "                elif c_min > np.iinfo(np.int64).min and c_max < np.iinfo(np.int64).max:\n",
    "                    df[col] = df[col].astype(np.int64)  \n",
    "            else:\n",
    "                if use_float16 and c_min > np.finfo(np.float16).min and c_max < np.finfo(np.float16).max:\n",
    "                    df[col] = df[col].astype(np.float16)\n",
    "                elif c_min > np.finfo(np.float32).min and c_max < np.finfo(np.float32).max:\n",
    "                    df[col] = df[col].astype(np.float32)\n",
    "                else:\n",
    "                    df[col] = df[col].astype(np.float64)\n",
    "        else:\n",
    "            df[col] = df[col].astype('category')\n",
    "\n",
    "    end_mem = df.memory_usage().sum() / 1024**2\n",
    "    print('Memory usage after optimization is: {:.2f} MB'.format(end_mem))\n",
    "    print('Decreased by {:.1f}%'.format(100 * (start_mem - end_mem) / start_mem))\n",
    "    \n",
    "    return df"
   ]
  },
  {
   "cell_type": "code",
   "execution_count": 4,
   "metadata": {},
   "outputs": [
    {
     "data": {
      "text/html": [
       "<div>\n",
       "<style scoped>\n",
       "    .dataframe tbody tr th:only-of-type {\n",
       "        vertical-align: middle;\n",
       "    }\n",
       "\n",
       "    .dataframe tbody tr th {\n",
       "        vertical-align: top;\n",
       "    }\n",
       "\n",
       "    .dataframe thead th {\n",
       "        text-align: right;\n",
       "    }\n",
       "</style>\n",
       "<table border=\"1\" class=\"dataframe\">\n",
       "  <thead>\n",
       "    <tr style=\"text-align: right;\">\n",
       "      <th></th>\n",
       "      <th>row_id</th>\n",
       "      <th>building_id</th>\n",
       "      <th>meter</th>\n",
       "      <th>timestamp</th>\n",
       "    </tr>\n",
       "  </thead>\n",
       "  <tbody>\n",
       "    <tr>\n",
       "      <th>0</th>\n",
       "      <td>0</td>\n",
       "      <td>0</td>\n",
       "      <td>0</td>\n",
       "      <td>2017-01-01 00:00:00</td>\n",
       "    </tr>\n",
       "    <tr>\n",
       "      <th>1</th>\n",
       "      <td>1</td>\n",
       "      <td>1</td>\n",
       "      <td>0</td>\n",
       "      <td>2017-01-01 00:00:00</td>\n",
       "    </tr>\n",
       "    <tr>\n",
       "      <th>2</th>\n",
       "      <td>2</td>\n",
       "      <td>2</td>\n",
       "      <td>0</td>\n",
       "      <td>2017-01-01 00:00:00</td>\n",
       "    </tr>\n",
       "    <tr>\n",
       "      <th>3</th>\n",
       "      <td>3</td>\n",
       "      <td>3</td>\n",
       "      <td>0</td>\n",
       "      <td>2017-01-01 00:00:00</td>\n",
       "    </tr>\n",
       "    <tr>\n",
       "      <th>4</th>\n",
       "      <td>4</td>\n",
       "      <td>4</td>\n",
       "      <td>0</td>\n",
       "      <td>2017-01-01 00:00:00</td>\n",
       "    </tr>\n",
       "    <tr>\n",
       "      <th>...</th>\n",
       "      <td>...</td>\n",
       "      <td>...</td>\n",
       "      <td>...</td>\n",
       "      <td>...</td>\n",
       "    </tr>\n",
       "    <tr>\n",
       "      <th>41697595</th>\n",
       "      <td>41697595</td>\n",
       "      <td>1444</td>\n",
       "      <td>0</td>\n",
       "      <td>2018-05-09 07:00:00</td>\n",
       "    </tr>\n",
       "    <tr>\n",
       "      <th>41697596</th>\n",
       "      <td>41697596</td>\n",
       "      <td>1445</td>\n",
       "      <td>0</td>\n",
       "      <td>2018-05-09 07:00:00</td>\n",
       "    </tr>\n",
       "    <tr>\n",
       "      <th>41697597</th>\n",
       "      <td>41697597</td>\n",
       "      <td>1446</td>\n",
       "      <td>0</td>\n",
       "      <td>2018-05-09 07:00:00</td>\n",
       "    </tr>\n",
       "    <tr>\n",
       "      <th>41697598</th>\n",
       "      <td>41697598</td>\n",
       "      <td>1447</td>\n",
       "      <td>0</td>\n",
       "      <td>2018-05-09 07:00:00</td>\n",
       "    </tr>\n",
       "    <tr>\n",
       "      <th>41697599</th>\n",
       "      <td>41697599</td>\n",
       "      <td>1448</td>\n",
       "      <td>0</td>\n",
       "      <td>2018-05-09 07:00:00</td>\n",
       "    </tr>\n",
       "  </tbody>\n",
       "</table>\n",
       "<p>41697600 rows × 4 columns</p>\n",
       "</div>"
      ],
      "text/plain": [
       "            row_id  building_id  meter           timestamp\n",
       "0                0            0      0 2017-01-01 00:00:00\n",
       "1                1            1      0 2017-01-01 00:00:00\n",
       "2                2            2      0 2017-01-01 00:00:00\n",
       "3                3            3      0 2017-01-01 00:00:00\n",
       "4                4            4      0 2017-01-01 00:00:00\n",
       "...            ...          ...    ...                 ...\n",
       "41697595  41697595         1444      0 2018-05-09 07:00:00\n",
       "41697596  41697596         1445      0 2018-05-09 07:00:00\n",
       "41697597  41697597         1446      0 2018-05-09 07:00:00\n",
       "41697598  41697598         1447      0 2018-05-09 07:00:00\n",
       "41697599  41697599         1448      0 2018-05-09 07:00:00\n",
       "\n",
       "[41697600 rows x 4 columns]"
      ]
     },
     "execution_count": 4,
     "metadata": {},
     "output_type": "execute_result"
    }
   ],
   "source": [
    "df_test = pd.read_csv(\"/kaggle/input/ashrae-energy-prediction/\" + \"test.csv\")\n",
    "df_test['timestamp'] = pd.to_datetime(df_test['timestamp'])\n",
    "df_test"
   ]
  },
  {
   "cell_type": "code",
   "execution_count": 5,
   "metadata": {
    "_cell_guid": "",
    "_uuid": ""
   },
   "outputs": [
    {
     "name": "stdout",
     "output_type": "stream",
     "text": [
      "CPU times: user 39.1 s, sys: 4.56 s, total: 43.7 s\n",
      "Wall time: 51 s\n"
     ]
    }
   ],
   "source": [
    "%%time\n",
    "submission_lgb_v251_1 = pd.read_csv(\"../input/submissions-v251/submission.csv\")\n",
    "submission_lgb_v251_2 = pd.read_csv(\"../input/submissions-v251/submission_lgb2_v251_2.csv\")\n",
    "submission_lgb_v251_3 = pd.read_csv(\"../input/submissions-v251/submission_lgb2_v251_3.csv\")"
   ]
  },
  {
   "cell_type": "code",
   "execution_count": 6,
   "metadata": {},
   "outputs": [
    {
     "name": "stdout",
     "output_type": "stream",
     "text": [
      "CPU times: user 13 s, sys: 1.76 s, total: 14.7 s\n",
      "Wall time: 14.8 s\n"
     ]
    }
   ],
   "source": [
    "%%time \n",
    "#DE OTROS\n",
    "# entrena todo de una, sin folds\n",
    "#submission_simple_cleanup = pd.read_csv(\"../input/ashrae-simple-data-cleanup-lb-1-08-no-leaks/submission.csv\")\n",
    "# stratify en tres grupos de meses\n",
    "submission_stratify = pd.read_csv(\"../input/ashrae-energy-prediction-using-stratified-kfold/fe2_lgbm.csv\")\n",
    "# HLAF AND HALF\n",
    "#submission_half = pd.read_csv(\"../input/ashrae-half-and-half/submission.csv\")\n",
    "#submission_divide_and_conquer = pd.read_csv('../input/ashrae-divide-and-conquer/submission_noleak.csv')"
   ]
  },
  {
   "cell_type": "code",
   "execution_count": 7,
   "metadata": {},
   "outputs": [],
   "source": [
    "# mis stratifies\n",
    "#submission_s3f = pd.read_csv('../input/energy-demand-submission-mystratify/submission_3folds.csv')\n",
    "#submission_s5f = pd.read_csv('../input/energy-demand-submission-mystratify/submission_5folds.csv')"
   ]
  },
  {
   "cell_type": "code",
   "execution_count": 8,
   "metadata": {},
   "outputs": [
    {
     "data": {
      "text/plain": [
       "11"
      ]
     },
     "execution_count": 8,
     "metadata": {},
     "output_type": "execute_result"
    }
   ],
   "source": [
    "df_test['pred1'] = submission_lgb_v251_1.meter_reading\n",
    "df_test['pred2'] = submission_lgb_v251_2.meter_reading\n",
    "df_test['pred3'] = submission_lgb_v251_3.meter_reading\n",
    "#df_test['pred4'] = submission_simple_cleanup.meter_reading #submission_s3f\n",
    "df_test['pred5'] = submission_stratify.meter_reading\n",
    "#df_test['pred6'] = submission_s5f.meter_reading\n",
    "#df_test['pred4'] = submission_simple_cleanup.meter_reading\n",
    "#df_test['pred6'] = submission_half.meter_reading\n",
    "\n",
    "# limpiarmos\n",
    "#del  submission_lgb_v251_1,  submission_lgb_v251_2,  submission_lgb_v251_3\n",
    "gc.collect()"
   ]
  },
  {
   "cell_type": "code",
   "execution_count": 9,
   "metadata": {},
   "outputs": [
    {
     "name": "stdout",
     "output_type": "stream",
     "text": [
      "Memory usage of dataframe is 2545.02 MB\n",
      "Memory usage after optimization is: 1232.74 MB\n",
      "Decreased by 51.6%\n",
      "Memory usage of dataframe is 460.05 MB\n",
      "Memory usage after optimization is: 299.03 MB\n",
      "Decreased by 35.0%\n"
     ]
    }
   ],
   "source": [
    "leak_df = pd.read_feather('../input/ashrae-leak-data-station/leak.feather')\n",
    "leak_df.fillna(0, inplace=True)\n",
    "\n",
    "leak_df = leak_df[(leak_df.timestamp.dt.year > 2016) & (leak_df.timestamp.dt.year < 2019)]\n",
    "leak_df.loc[leak_df.meter_reading < 0, 'meter_reading'] = 0 # remove large negative values\n",
    "leak_df = leak_df[leak_df.building_id!=245]\n",
    "\n",
    "df_test = reduce_mem_usage(df_test)\n",
    "leak_df = reduce_mem_usage(leak_df)"
   ]
  },
  {
   "cell_type": "code",
   "execution_count": 10,
   "metadata": {},
   "outputs": [
    {
     "name": "stdout",
     "output_type": "stream",
     "text": [
      "(12059979, 4)\n"
     ]
    }
   ],
   "source": [
    "print(leak_df.shape)"
   ]
  },
  {
   "cell_type": "code",
   "execution_count": 11,
   "metadata": {},
   "outputs": [
    {
     "data": {
      "text/plain": [
       "0"
      ]
     },
     "execution_count": 11,
     "metadata": {},
     "output_type": "execute_result"
    }
   ],
   "source": [
    "leak_df = leak_df.merge(df_test[['building_id', 'meter', 'timestamp', 'pred1', 'pred2', 'pred3', 'pred5', 'row_id']],\n",
    "                        left_on = ['building_id', 'meter', 'timestamp'], right_on = ['building_id', 'meter', 'timestamp'], how = \"left\")\n",
    "#leak_df = leak_df.merge(building_meta_df[['building_id', 'site_id']], on='building_id', how='left')\n",
    "del df_test\n",
    "gc.collect()"
   ]
  },
  {
   "cell_type": "code",
   "execution_count": 12,
   "metadata": {},
   "outputs": [
    {
     "name": "stdout",
     "output_type": "stream",
     "text": [
      "RMSE pred1  0.9856537\n",
      "RMSE pred2  0.9967132\n",
      "RMSE pred3  1.0349756\n",
      "RMSE pred5  0.97505987\n"
     ]
    }
   ],
   "source": [
    "scores = []\n",
    "leak_score1 = np.sqrt(mean_squared_error(np.log1p(leak_df.pred1), np.log1p(leak_df.meter_reading)))\n",
    "print ('RMSE pred1 ', leak_score1)\n",
    "leak_score2 = np.sqrt(mean_squared_error(np.log1p(leak_df.pred2), np.log1p(leak_df.meter_reading)))\n",
    "print ('RMSE pred2 ', leak_score2)\n",
    "leak_score3 = np.sqrt(mean_squared_error(np.log1p(leak_df.pred3), np.log1p(leak_df.meter_reading)))\n",
    "print ('RMSE pred3 ', leak_score3)\n",
    "'''\n",
    "leak_score4 = np.sqrt(mean_squared_error(np.log1p(leak_df.pred4), np.log1p(leak_df.meter_reading)))\n",
    "print ('RMSE pred4 ', leak_score4)\n",
    "'''\n",
    "leak_score5 = np.sqrt(mean_squared_error(np.log1p(leak_df.pred5), np.log1p(leak_df.meter_reading)))\n",
    "print ('RMSE pred5 ', leak_score5)\n",
    "'''\n",
    "leak_score6 = np.sqrt(mean_squared_error(np.log1p(leak_df.pred6), np.log1p(leak_df.meter_reading)))\n",
    "print ('RMSE pred6 ', leak_score6)\n",
    "'''\n",
    "scores.append(leak_score1)\n",
    "scores.append(leak_score2)\n",
    "scores.append(leak_score3)\n",
    "#scores.append(leak_score4)\n",
    "scores.append(leak_score5)\n",
    "#scores.append(leak_score6)"
   ]
  },
  {
   "cell_type": "code",
   "execution_count": 13,
   "metadata": {},
   "outputs": [
    {
     "data": {
      "text/plain": [
       "array([0.2500314 , 0.25000352, 0.24990688, 0.25005817], dtype=float32)"
      ]
     },
     "execution_count": 13,
     "metadata": {},
     "output_type": "execute_result"
    }
   ],
   "source": [
    "# calculando pesos a partir del score\n",
    "def calculate_weigths_inverse(lista_scores):\n",
    "    \n",
    "    lista_scores = np.array(lista_scores)\n",
    "\n",
    "    weights = 100 - lista_scores\n",
    "    total_score = np.sum(weights)\n",
    "\n",
    "    weights = weights/total_score\n",
    "\n",
    "    return weights\n",
    "\n",
    "list_scores = calculate_weigths_inverse(scores)\n",
    "list_scores\n",
    "#[0.3334011054973521, 0.3333638658729094, 0.3332350286297385]"
   ]
  },
  {
   "cell_type": "code",
   "execution_count": 14,
   "metadata": {},
   "outputs": [
    {
     "name": "stdout",
     "output_type": "stream",
     "text": [
      "(12059979, 9)\n"
     ]
    }
   ],
   "source": [
    "print(leak_df.shape)"
   ]
  },
  {
   "cell_type": "code",
   "execution_count": 15,
   "metadata": {},
   "outputs": [
    {
     "data": {
      "text/html": [
       "<div>\n",
       "<style scoped>\n",
       "    .dataframe tbody tr th:only-of-type {\n",
       "        vertical-align: middle;\n",
       "    }\n",
       "\n",
       "    .dataframe tbody tr th {\n",
       "        vertical-align: top;\n",
       "    }\n",
       "\n",
       "    .dataframe thead th {\n",
       "        text-align: right;\n",
       "    }\n",
       "</style>\n",
       "<table border=\"1\" class=\"dataframe\">\n",
       "  <thead>\n",
       "    <tr style=\"text-align: right;\">\n",
       "      <th></th>\n",
       "      <th>building_id</th>\n",
       "      <th>meter</th>\n",
       "      <th>meter_reading</th>\n",
       "      <th>timestamp</th>\n",
       "      <th>pred1</th>\n",
       "      <th>pred2</th>\n",
       "      <th>pred3</th>\n",
       "      <th>pred5</th>\n",
       "      <th>row_id</th>\n",
       "    </tr>\n",
       "  </thead>\n",
       "  <tbody>\n",
       "    <tr>\n",
       "      <th>0</th>\n",
       "      <td>0</td>\n",
       "      <td>0.0</td>\n",
       "      <td>173.370300</td>\n",
       "      <td>2017-01-01</td>\n",
       "      <td>187.446701</td>\n",
       "      <td>181.708313</td>\n",
       "      <td>223.225952</td>\n",
       "      <td>166.884735</td>\n",
       "      <td>0</td>\n",
       "    </tr>\n",
       "    <tr>\n",
       "      <th>1</th>\n",
       "      <td>1</td>\n",
       "      <td>0.0</td>\n",
       "      <td>53.512718</td>\n",
       "      <td>2017-01-01</td>\n",
       "      <td>85.123627</td>\n",
       "      <td>74.787704</td>\n",
       "      <td>101.238258</td>\n",
       "      <td>77.057228</td>\n",
       "      <td>1</td>\n",
       "    </tr>\n",
       "    <tr>\n",
       "      <th>2</th>\n",
       "      <td>2</td>\n",
       "      <td>0.0</td>\n",
       "      <td>6.143042</td>\n",
       "      <td>2017-01-01</td>\n",
       "      <td>7.201028</td>\n",
       "      <td>7.030732</td>\n",
       "      <td>8.219783</td>\n",
       "      <td>7.092007</td>\n",
       "      <td>2</td>\n",
       "    </tr>\n",
       "    <tr>\n",
       "      <th>3</th>\n",
       "      <td>3</td>\n",
       "      <td>0.0</td>\n",
       "      <td>101.701469</td>\n",
       "      <td>2017-01-01</td>\n",
       "      <td>303.786530</td>\n",
       "      <td>301.138519</td>\n",
       "      <td>141.428040</td>\n",
       "      <td>296.035858</td>\n",
       "      <td>3</td>\n",
       "    </tr>\n",
       "    <tr>\n",
       "      <th>4</th>\n",
       "      <td>4</td>\n",
       "      <td>0.0</td>\n",
       "      <td>1141.240723</td>\n",
       "      <td>2017-01-01</td>\n",
       "      <td>1329.340210</td>\n",
       "      <td>1392.182739</td>\n",
       "      <td>1360.695557</td>\n",
       "      <td>1365.723999</td>\n",
       "      <td>4</td>\n",
       "    </tr>\n",
       "    <tr>\n",
       "      <th>5</th>\n",
       "      <td>5</td>\n",
       "      <td>0.0</td>\n",
       "      <td>13.651204</td>\n",
       "      <td>2017-01-01</td>\n",
       "      <td>11.113725</td>\n",
       "      <td>10.828140</td>\n",
       "      <td>56.259232</td>\n",
       "      <td>9.786079</td>\n",
       "      <td>5</td>\n",
       "    </tr>\n",
       "    <tr>\n",
       "      <th>6</th>\n",
       "      <td>6</td>\n",
       "      <td>0.0</td>\n",
       "      <td>260.874512</td>\n",
       "      <td>2017-01-01</td>\n",
       "      <td>118.102547</td>\n",
       "      <td>125.684387</td>\n",
       "      <td>78.346298</td>\n",
       "      <td>133.258820</td>\n",
       "      <td>6</td>\n",
       "    </tr>\n",
       "    <tr>\n",
       "      <th>7</th>\n",
       "      <td>7</td>\n",
       "      <td>0.0</td>\n",
       "      <td>502.705597</td>\n",
       "      <td>2017-01-01</td>\n",
       "      <td>410.038452</td>\n",
       "      <td>400.102173</td>\n",
       "      <td>458.879791</td>\n",
       "      <td>466.552856</td>\n",
       "      <td>7</td>\n",
       "    </tr>\n",
       "    <tr>\n",
       "      <th>8</th>\n",
       "      <td>7</td>\n",
       "      <td>1.0</td>\n",
       "      <td>717.574036</td>\n",
       "      <td>2017-01-01</td>\n",
       "      <td>52.620213</td>\n",
       "      <td>66.405609</td>\n",
       "      <td>928.632446</td>\n",
       "      <td>775.338623</td>\n",
       "      <td>8</td>\n",
       "    </tr>\n",
       "    <tr>\n",
       "      <th>9</th>\n",
       "      <td>8</td>\n",
       "      <td>0.0</td>\n",
       "      <td>513.285278</td>\n",
       "      <td>2017-01-01</td>\n",
       "      <td>418.487640</td>\n",
       "      <td>393.676300</td>\n",
       "      <td>275.443268</td>\n",
       "      <td>395.379364</td>\n",
       "      <td>9</td>\n",
       "    </tr>\n",
       "    <tr>\n",
       "      <th>10</th>\n",
       "      <td>9</td>\n",
       "      <td>0.0</td>\n",
       "      <td>61.839954</td>\n",
       "      <td>2017-01-01</td>\n",
       "      <td>58.344650</td>\n",
       "      <td>57.881058</td>\n",
       "      <td>46.606976</td>\n",
       "      <td>57.235847</td>\n",
       "      <td>10</td>\n",
       "    </tr>\n",
       "    <tr>\n",
       "      <th>11</th>\n",
       "      <td>9</td>\n",
       "      <td>1.0</td>\n",
       "      <td>0.000000</td>\n",
       "      <td>2017-01-01</td>\n",
       "      <td>6.698428</td>\n",
       "      <td>4.765409</td>\n",
       "      <td>22.302149</td>\n",
       "      <td>9.863900</td>\n",
       "      <td>11</td>\n",
       "    </tr>\n",
       "    <tr>\n",
       "      <th>12</th>\n",
       "      <td>10</td>\n",
       "      <td>0.0</td>\n",
       "      <td>1806.736816</td>\n",
       "      <td>2017-01-01</td>\n",
       "      <td>1401.911255</td>\n",
       "      <td>1136.827148</td>\n",
       "      <td>275.716980</td>\n",
       "      <td>1228.289551</td>\n",
       "      <td>12</td>\n",
       "    </tr>\n",
       "    <tr>\n",
       "      <th>13</th>\n",
       "      <td>11</td>\n",
       "      <td>0.0</td>\n",
       "      <td>472.331665</td>\n",
       "      <td>2017-01-01</td>\n",
       "      <td>426.396240</td>\n",
       "      <td>447.131378</td>\n",
       "      <td>225.994629</td>\n",
       "      <td>405.552277</td>\n",
       "      <td>13</td>\n",
       "    </tr>\n",
       "    <tr>\n",
       "      <th>14</th>\n",
       "      <td>12</td>\n",
       "      <td>0.0</td>\n",
       "      <td>298.620087</td>\n",
       "      <td>2017-01-01</td>\n",
       "      <td>247.550308</td>\n",
       "      <td>301.202606</td>\n",
       "      <td>149.896942</td>\n",
       "      <td>268.086182</td>\n",
       "      <td>14</td>\n",
       "    </tr>\n",
       "  </tbody>\n",
       "</table>\n",
       "</div>"
      ],
      "text/plain": [
       "    building_id  meter  meter_reading  timestamp        pred1        pred2  \\\n",
       "0             0    0.0     173.370300 2017-01-01   187.446701   181.708313   \n",
       "1             1    0.0      53.512718 2017-01-01    85.123627    74.787704   \n",
       "2             2    0.0       6.143042 2017-01-01     7.201028     7.030732   \n",
       "3             3    0.0     101.701469 2017-01-01   303.786530   301.138519   \n",
       "4             4    0.0    1141.240723 2017-01-01  1329.340210  1392.182739   \n",
       "5             5    0.0      13.651204 2017-01-01    11.113725    10.828140   \n",
       "6             6    0.0     260.874512 2017-01-01   118.102547   125.684387   \n",
       "7             7    0.0     502.705597 2017-01-01   410.038452   400.102173   \n",
       "8             7    1.0     717.574036 2017-01-01    52.620213    66.405609   \n",
       "9             8    0.0     513.285278 2017-01-01   418.487640   393.676300   \n",
       "10            9    0.0      61.839954 2017-01-01    58.344650    57.881058   \n",
       "11            9    1.0       0.000000 2017-01-01     6.698428     4.765409   \n",
       "12           10    0.0    1806.736816 2017-01-01  1401.911255  1136.827148   \n",
       "13           11    0.0     472.331665 2017-01-01   426.396240   447.131378   \n",
       "14           12    0.0     298.620087 2017-01-01   247.550308   301.202606   \n",
       "\n",
       "          pred3        pred5  row_id  \n",
       "0    223.225952   166.884735       0  \n",
       "1    101.238258    77.057228       1  \n",
       "2      8.219783     7.092007       2  \n",
       "3    141.428040   296.035858       3  \n",
       "4   1360.695557  1365.723999       4  \n",
       "5     56.259232     9.786079       5  \n",
       "6     78.346298   133.258820       6  \n",
       "7    458.879791   466.552856       7  \n",
       "8    928.632446   775.338623       8  \n",
       "9    275.443268   395.379364       9  \n",
       "10    46.606976    57.235847      10  \n",
       "11    22.302149     9.863900      11  \n",
       "12   275.716980  1228.289551      12  \n",
       "13   225.994629   405.552277      13  \n",
       "14   149.896942   268.086182      14  "
      ]
     },
     "execution_count": 15,
     "metadata": {},
     "output_type": "execute_result"
    }
   ],
   "source": [
    "leak_df.head(15)"
   ]
  },
  {
   "cell_type": "code",
   "execution_count": 16,
   "metadata": {},
   "outputs": [
    {
     "name": "stdout",
     "output_type": "stream",
     "text": [
      "CPU times: user 1.4 s, sys: 860 ms, total: 2.26 s\n",
      "Wall time: 1.42 s\n"
     ]
    },
    {
     "data": {
      "text/plain": [
       "0.16158910968852624"
      ]
     },
     "execution_count": 16,
     "metadata": {},
     "output_type": "execute_result"
    }
   ],
   "source": [
    "%%time\n",
    "from sklearn.ensemble import RandomForestRegressor\n",
    "\n",
    "X = np.column_stack([leak_df.pred1, leak_df.pred2, leak_df.pred5]) #leak_df.pred3,leak_df.pred2,, leak_df.pred6\n",
    "# y = 1 * x_0 + 2 * x_1 + 3\n",
    "y = leak_df['meter_reading']\n",
    "#reg = RandomForestRegressor(verbose=2).fit(X, y)\n",
    "reg = LinearRegression().fit(X, y)\n",
    "reg.score(X, y)"
   ]
  },
  {
   "cell_type": "code",
   "execution_count": 17,
   "metadata": {},
   "outputs": [
    {
     "data": {
      "text/plain": [
       "array([0.3349533 , 0.3332237 , 0.33182296], dtype=float32)"
      ]
     },
     "execution_count": 17,
     "metadata": {},
     "output_type": "execute_result"
    }
   ],
   "source": [
    "c = calculate_weigths_inverse(reg.coef_)\n",
    "#c = calculate_weigths_inverse(reg.feature_importances_)\n",
    "#c = list_scores\n",
    "c"
   ]
  },
  {
   "cell_type": "code",
   "execution_count": 18,
   "metadata": {},
   "outputs": [],
   "source": [
    "resultado_ponderado = c[0] * submission_lgb_v251_1.meter_reading +\\\n",
    "c[1] * submission_lgb_v251_2.meter_reading + c[2] * submission_stratify.meter_reading #+\\ submission_lgb_v251_3\n",
    "#c[3] * submission_simple_cleanup.meter_reading + c[4] * submission_stratify.meter_reading\n",
    "#c[2] * submission_lgb_v251_3.meter_reading +\\\n",
    "#c[3] * submission_s3f.meter_reading +\\\n",
    "#c[4] * submission_stratify.meter_reading #+\\\n",
    "#c[5] * submission_s5f.meter_reading \n",
    "#c[4] * submission_stratify.meter_reading #+\\\n",
    "#c[5] * submission_simple_cleanup.meter_reading \n",
    "\n",
    "resultado_ponderado_leak = c[0] * leak_df.pred1 +\\\n",
    "c[1] * leak_df.pred2 + c[2] * leak_df.pred5 #+ c[3] * leak_df.pred4+ c[4] * leak_df.pred5\n",
    "#c[2] * leak_df.pred3 +\\\n",
    "#c[3] * leak_df.pred4 +\\\n",
    "#c[4] * leak_df.pred5 #+\\\n",
    "#c[5] * leak_df.pred6\n",
    "\n",
    "'''\n",
    "media_modelos = (submission_lgb_v251_1.meter_reading + submission_lgb_v251_2.meter_reading +\\\n",
    "                 submission_lgb_v251_3.meter_reading  + submission_s3f.meter_reading +\\\n",
    "                submission_stratify.meter_reading  + submission_s5f.meter_reading) / 6 \n",
    "'''\n",
    "media_modelos = (submission_lgb_v251_1.meter_reading + submission_lgb_v251_2.meter_reading + submission_stratify.meter_reading\n",
    "                ) / 3 \n",
    "#submission_simple_cleanup.meter_reading + submission_stratify.meter_reading\n",
    "#submission_simple_cleanup.meter_reading#+  + submission_stratify.meter_reading , submission_lgb_v251_2\n",
    "#media_modelos_leak = (leak_df.pred1 + leak_df.pred2 + leak_df.pred3 + leak_df.pred4 + leak_df.pred5 + leak_df.pred6 ) / 6 \n",
    "media_modelos_leak = (leak_df.pred1 + leak_df.pred2 +  + leak_df.pred5) / 3\n",
    "#leak_df.pred4 ++ leak_df.pred6"
   ]
  },
  {
   "cell_type": "code",
   "execution_count": 19,
   "metadata": {},
   "outputs": [
    {
     "name": "stdout",
     "output_type": "stream",
     "text": [
      "RMSE resultado ponderado  0.9519578\n"
     ]
    }
   ],
   "source": [
    "leak_score = np.sqrt(mean_squared_error(np.log1p(resultado_ponderado_leak), np.log1p(leak_df.meter_reading)))\n",
    "print ('RMSE resultado ponderado ', leak_score)"
   ]
  },
  {
   "cell_type": "code",
   "execution_count": 20,
   "metadata": {},
   "outputs": [
    {
     "name": "stdout",
     "output_type": "stream",
     "text": [
      "RMSE media modelos  0.95198154\n"
     ]
    }
   ],
   "source": [
    "leak_score = np.sqrt(mean_squared_error(np.log1p(media_modelos_leak), np.log1p(leak_df.meter_reading)))\n",
    "print ('RMSE media modelos ', leak_score)"
   ]
  },
  {
   "cell_type": "code",
   "execution_count": 21,
   "metadata": {},
   "outputs": [],
   "source": [
    "#leak_score = np.sqrt(mean_squared_error(np.log1p(mediana_modelos_leak), np.log1p(leak_df.meter_reading)))\n",
    "#print ('RMSE mediana modelos ', leak_score)"
   ]
  },
  {
   "cell_type": "code",
   "execution_count": 22,
   "metadata": {},
   "outputs": [
    {
     "data": {
      "text/html": [
       "<div>\n",
       "<style scoped>\n",
       "    .dataframe tbody tr th:only-of-type {\n",
       "        vertical-align: middle;\n",
       "    }\n",
       "\n",
       "    .dataframe tbody tr th {\n",
       "        vertical-align: top;\n",
       "    }\n",
       "\n",
       "    .dataframe thead th {\n",
       "        text-align: right;\n",
       "    }\n",
       "</style>\n",
       "<table border=\"1\" class=\"dataframe\">\n",
       "  <thead>\n",
       "    <tr style=\"text-align: right;\">\n",
       "      <th></th>\n",
       "      <th>row_id</th>\n",
       "      <th>meter_reading</th>\n",
       "    </tr>\n",
       "  </thead>\n",
       "  <tbody>\n",
       "    <tr>\n",
       "      <th>0</th>\n",
       "      <td>0</td>\n",
       "      <td>178.711595</td>\n",
       "    </tr>\n",
       "    <tr>\n",
       "      <th>1</th>\n",
       "      <td>1</td>\n",
       "      <td>79.002835</td>\n",
       "    </tr>\n",
       "    <tr>\n",
       "      <th>2</th>\n",
       "      <td>2</td>\n",
       "      <td>7.108105</td>\n",
       "    </tr>\n",
       "    <tr>\n",
       "      <th>3</th>\n",
       "      <td>3</td>\n",
       "      <td>300.332299</td>\n",
       "    </tr>\n",
       "    <tr>\n",
       "      <th>4</th>\n",
       "      <td>4</td>\n",
       "      <td>1362.353793</td>\n",
       "    </tr>\n",
       "    <tr>\n",
       "      <th>5</th>\n",
       "      <td>5</td>\n",
       "      <td>10.578017</td>\n",
       "    </tr>\n",
       "    <tr>\n",
       "      <th>6</th>\n",
       "      <td>6</td>\n",
       "      <td>125.658192</td>\n",
       "    </tr>\n",
       "    <tr>\n",
       "      <th>7</th>\n",
       "      <td>7</td>\n",
       "      <td>425.480216</td>\n",
       "    </tr>\n",
       "    <tr>\n",
       "      <th>8</th>\n",
       "      <td>8</td>\n",
       "      <td>297.028392</td>\n",
       "    </tr>\n",
       "    <tr>\n",
       "      <th>9</th>\n",
       "      <td>9</td>\n",
       "      <td>402.552039</td>\n",
       "    </tr>\n",
       "    <tr>\n",
       "      <th>10</th>\n",
       "      <td>10</td>\n",
       "      <td>57.822242</td>\n",
       "    </tr>\n",
       "    <tr>\n",
       "      <th>11</th>\n",
       "      <td>11</td>\n",
       "      <td>7.104676</td>\n",
       "    </tr>\n",
       "    <tr>\n",
       "      <th>12</th>\n",
       "      <td>12</td>\n",
       "      <td>1255.967239</td>\n",
       "    </tr>\n",
       "    <tr>\n",
       "      <th>13</th>\n",
       "      <td>13</td>\n",
       "      <td>426.389166</td>\n",
       "    </tr>\n",
       "    <tr>\n",
       "      <th>14</th>\n",
       "      <td>14</td>\n",
       "      <td>272.242792</td>\n",
       "    </tr>\n",
       "  </tbody>\n",
       "</table>\n",
       "</div>"
      ],
      "text/plain": [
       "    row_id  meter_reading\n",
       "0        0     178.711595\n",
       "1        1      79.002835\n",
       "2        2       7.108105\n",
       "3        3     300.332299\n",
       "4        4    1362.353793\n",
       "5        5      10.578017\n",
       "6        6     125.658192\n",
       "7        7     425.480216\n",
       "8        8     297.028392\n",
       "9        9     402.552039\n",
       "10      10      57.822242\n",
       "11      11       7.104676\n",
       "12      12    1255.967239\n",
       "13      13     426.389166\n",
       "14      14     272.242792"
      ]
     },
     "execution_count": 22,
     "metadata": {},
     "output_type": "execute_result"
    }
   ],
   "source": [
    "submission = pd.DataFrame({\"row_id\": submission_lgb_v251_1.row_id, \"meter_reading\": resultado_ponderado})\n",
    "submission.head(15)"
   ]
  },
  {
   "cell_type": "code",
   "execution_count": 23,
   "metadata": {},
   "outputs": [],
   "source": [
    "submission.to_csv(\"submission.csv\", index=False)"
   ]
  },
  {
   "cell_type": "code",
   "execution_count": 24,
   "metadata": {},
   "outputs": [],
   "source": [
    "leak_df = leak_df[['meter_reading', 'row_id']].set_index('row_id').dropna()\n",
    "submission.loc[leak_df.index, 'meter_reading'] = leak_df['meter_reading']"
   ]
  },
  {
   "cell_type": "code",
   "execution_count": 25,
   "metadata": {},
   "outputs": [],
   "source": [
    "submission.to_csv(\"submission_leaked.csv\", index=False)"
   ]
  }
 ],
 "metadata": {
  "kernelspec": {
   "display_name": "Python 3",
   "language": "python",
   "name": "python3"
  },
  "language_info": {
   "codemirror_mode": {
    "name": "ipython",
    "version": 3
   },
   "file_extension": ".py",
   "mimetype": "text/x-python",
   "name": "python",
   "nbconvert_exporter": "python",
   "pygments_lexer": "ipython3",
   "version": "3.6.6"
  }
 },
 "nbformat": 4,
 "nbformat_minor": 1
}
