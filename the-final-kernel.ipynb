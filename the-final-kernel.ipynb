{
 "cells": [
  {
   "cell_type": "code",
   "execution_count": 1,
   "metadata": {},
   "outputs": [
    {
     "name": "stdout",
     "output_type": "stream",
     "text": [
      "Collecting meteocalc\r\n",
      "  Downloading https://files.pythonhosted.org/packages/6c/f7/95473a929f0a02547461fa3698b7f8082ff40445ba5e21601f5d9a5e48ec/meteocalc-1.1.0.tar.gz\r\n",
      "Building wheels for collected packages: meteocalc\r\n",
      "  Building wheel for meteocalc (setup.py) ... \u001b[?25l-\b \b\\\b \bdone\r\n",
      "\u001b[?25h  Created wheel for meteocalc: filename=meteocalc-1.1.0-cp36-none-any.whl size=8196 sha256=52e4e258dbb85797d3667fa4c977e14403b403b48f5b25ead51668f906f68b4e\r\n",
      "  Stored in directory: /tmp/.cache/pip/wheels/9e/34/13/83d36ecc28837e3c2a5b696542e697538e7c1025382f4ded55\r\n",
      "Successfully built meteocalc\r\n",
      "Installing collected packages: meteocalc\r\n",
      "Successfully installed meteocalc-1.1.0\r\n"
     ]
    }
   ],
   "source": [
    "!pip install meteocalc"
   ]
  },
  {
   "cell_type": "code",
   "execution_count": 2,
   "metadata": {},
   "outputs": [
    {
     "name": "stdout",
     "output_type": "stream",
     "text": [
      "Requirement already satisfied: holidays in /opt/conda/lib/python3.6/site-packages (0.9.11)\r\n",
      "Requirement already satisfied: python-dateutil in /opt/conda/lib/python3.6/site-packages (from holidays) (2.8.0)\r\n",
      "Requirement already satisfied: six in /opt/conda/lib/python3.6/site-packages (from holidays) (1.12.0)\r\n"
     ]
    }
   ],
   "source": [
    "!pip install holidays"
   ]
  },
  {
   "cell_type": "code",
   "execution_count": 3,
   "metadata": {
    "_cell_guid": "d665b504-3089-4cda-9e2c-adb138822fdd",
    "_uuid": "d77b2edf-0bce-4f96-a789-d52769133c05"
   },
   "outputs": [
    {
     "name": "stderr",
     "output_type": "stream",
     "text": [
      "/opt/conda/lib/python3.6/site-packages/sklearn/externals/joblib/__init__.py:15: DeprecationWarning: sklearn.externals.joblib is deprecated in 0.21 and will be removed in 0.23. Please import this functionality directly from joblib, which can be installed with: pip install joblib. If this warning is raised when loading pickled models, you may need to re-serialize those models with scikit-learn 0.21+.\n",
      "  warnings.warn(msg, category=DeprecationWarning)\n"
     ]
    }
   ],
   "source": [
    "import gc\n",
    "import os\n",
    "import random\n",
    "\n",
    "import holidays\n",
    "\n",
    "import matplotlib.pyplot as plt\n",
    "\n",
    "import lightgbm as lgb\n",
    "from catboost import Pool, CatBoostRegressor\n",
    "import numpy as np\n",
    "import pandas as pd\n",
    "from tqdm import tqdm_notebook as tqdm\n",
    "\n",
    "from sklearn.metrics import mean_squared_error, mean_squared_log_error\n",
    "from sklearn.preprocessing import LabelEncoder\n",
    "from sklearn.model_selection import RandomizedSearchCV\n",
    "from sklearn.model_selection import KFold, GroupKFold,StratifiedKFold\n",
    "from sklearn.externals import joblib\n",
    "\n",
    "# matplotlib and seaborn for plotting\n",
    "import matplotlib\n",
    "import matplotlib.pyplot as plt\n",
    "import seaborn as sns\n",
    "\n",
    "from pandas.plotting import register_matplotlib_converters\n",
    "register_matplotlib_converters()\n",
    "\n",
    "import calendar\n",
    "import datetime\n",
    "\n",
    "path_data = \"/kaggle/input/ashrae-energy-prediction/\"\n",
    "path_train = path_data + \"train.csv\"\n",
    "path_test = path_data + \"test.csv\"\n",
    "path_building = path_data + \"building_metadata.csv\"\n",
    "path_weather_train = path_data + \"weather_train.csv\"\n",
    "path_weather_test = path_data + \"weather_test.csv\"\n",
    "path_dataset_region_sites = \"/kaggle/input/ashrae-cities-and-timezones/\"\n",
    "\n",
    "myfavouritenumber = 666\n",
    "seed = myfavouritenumber\n",
    "random.seed(seed)\n",
    "\n",
    "import xgboost as xgb\n",
    "from xgboost import plot_importance, plot_tree\n",
    "\n",
    "from meteocalc import Temp, dew_point, heat_index, wind_chill, feels_like\n",
    "\n",
    "\n",
    "DO_TEST = False\n",
    "DO_TRAIN = True"
   ]
  },
  {
   "cell_type": "code",
   "execution_count": 4,
   "metadata": {},
   "outputs": [
    {
     "name": "stdout",
     "output_type": "stream",
     "text": [
      "['ashrae-cities-and-timezones', 'lgb-models-ashrae', 'ashrae-leak-data-station', 'ashrae-energy-prediction', 'outliers-energydemand']\n"
     ]
    }
   ],
   "source": [
    "print(os.listdir('/kaggle/input/'))"
   ]
  },
  {
   "cell_type": "markdown",
   "metadata": {
    "_cell_guid": "3a3bc974-e6c0-49a0-8f1d-e1cd8f9ca518",
    "_uuid": "58b023be-56ab-4549-bbbf-42ce385d70f0"
   },
   "source": [
    "## Reading train data\n",
    "\n",
    "Reading train data along with building and weather metadata."
   ]
  },
  {
   "cell_type": "code",
   "execution_count": 5,
   "metadata": {
    "_cell_guid": "f01f65b1-a6ce-4bda-97bd-ec7141e64f1d",
    "_uuid": "901bac8f-44a3-4d57-9deb-12770f6a90d5"
   },
   "outputs": [],
   "source": [
    "#https://www.mytecbits.com/internet/python/week-number-of-month\n",
    "def get_week_of_month(date_value):\n",
    "    # isocalendar -- > year, week_del_año, dia_de_la_semana\n",
    "    # empeizan ene le 1\n",
    "    # .dt.date.values[0]\n",
    "     return (date_value.isocalendar()[1] - date_value.replace(day=1).isocalendar()[1] + 1)\n",
    "# 11 dummies para los meses\n",
    "def set_dummies(df):\n",
    "    meses_dummie = 11\n",
    "    for mes_dummie in np.arange(1, meses_dummie + 1):\n",
    "        df['mes' + str(mes_dummie)] = np.full(df.shape[0], 0)\n",
    "        df.loc[df['timestamp'].dt.month == mes_dummie, 'mes' + str(mes_dummie)] = 1\n",
    "\n",
    "# estacionalidades\n",
    "def get_summer(df):\n",
    "    summer = [6, 7, 8, 9]\n",
    "    df['is_summer'] = np.zeros(df.shape[0], dtype=int)\n",
    "    df.loc[df.timestamp.dt.month.isin(summer), 'is_summer'] = 1\n",
    "def get_winter(df):\n",
    "    winter = [1, 2, 11, 12]\n",
    "    df['is_winter'] = np.zeros(df.shape[0], dtype=int)\n",
    "    df.loc[df.timestamp.dt.month.isin(winter), 'is_winter'] = 1\n",
    "\n",
    "# centrarse en fines de semana\n",
    "def is_weekend(df):\n",
    "    weekend = [5,6] # empieza en 0\n",
    "    df['is_weekend'] = np.zeros(df.shape[0], dtype=int)\n",
    "    df.loc[df.timestamp.dt.dayofweek.isin(weekend), 'is_weekend'] = 1\n",
    "\n",
    "#RMSLE\n",
    "def get_rmsle(y_true, y_pred):\n",
    "    return np.sqrt(mean_squared_log_error( np.clip(y_true, 0, np.max(y_true)),\n",
    "                                                   np.clip(y_pred, 0,np.max(y_pred) )))\n",
    "# importancia de las carac\n",
    "def plot_fi(model):\n",
    "    importance_df = pd.DataFrame(model.feature_importance(),\n",
    "                                 index=model.feature_name(),\n",
    "                                 columns=['importance']).sort_values('importance')\n",
    "    fig, ax = plt.subplots(figsize=(8, 8))\n",
    "    importance_df.plot.barh(ax=ax)\n",
    "    fig.show()\n",
    "    \n",
    "# importancia para CATBOOST\n",
    "def plot_fi_cat(model):\n",
    "    importance_df = pd.DataFrame(model.get_feature_importance(),\n",
    "                                 index=model.feature_names_,\n",
    "                                 columns=['importance']).sort_values('importance')\n",
    "    fig, ax = plt.subplots(figsize=(8, 8))\n",
    "    importance_df.plot.barh(ax=ax)\n",
    "    fig.show()\n",
    "# TEMPERATURA caracs\n",
    "def humidity(df):\n",
    "    df['humidity'] = 100 - 5 * (df['air_temperature'] - df['dew_temperature'])\n",
    "\n",
    "# feels like\n",
    "def feels_like_df(df):\n",
    "    #lambda row: my_test(row['a'], row['c'])\n",
    "    df['feels'] = df.apply(lambda row: feels_like(temperature=row['air_temperature'],humidity=row['humidity'],\n",
    "                                                      wind_speed=row['wind_speed']), axis=1)\n",
    "    df['feels'] = df['feels'].astype(np.float16)\n",
    "    df['feels'] = np.round(df['feels'], 2)\n",
    "    \n",
    "#https://www.kaggle.com/caesarlupum/ashrae-ligthgbm-simple-fe/comments\n",
    "def beaufort_scale(df):\n",
    "    beaufort = [(0, 0, 0.3), (1, 0.3, 1.6), (2, 1.6, 3.4), (3, 3.4, 5.5), (4, 5.5, 8), (5, 8, 10.8), (6, 10.8, 13.9), \n",
    "          (7, 13.9, 17.2), (8, 17.2, 20.8), (9, 20.8, 24.5), (10, 24.5, 28.5), (11, 28.5, 33), (12, 33, 200)]\n",
    "\n",
    "    for item in beaufort:\n",
    "        df.loc[(df['wind_speed']>=item[1])\n",
    "               & (df['wind_speed']<item[2]),\n",
    "               'beaufort_scale'] = item[0]\n",
    "        \n",
    "    df['beaufort_scale'] = df['beaufort_scale'].fillna(-999)\n",
    "    df['beaufort_scale'] = df['beaufort_scale'].astype(np.int16) \n",
    "        \n",
    "# Convert wind direction into categorical feature. We can split 360 degrees into 16-wind compass rose. \n",
    "# See this: https://en.wikipedia.org/wiki/Points_of_the_compass#16-wind_compass_rose\n",
    "def degToCompass(num):\n",
    "    val=int((num/22.5))\n",
    "    arr=[i for i in range(0,16)]\n",
    "    return arr[(val % 16)]\n",
    "\n",
    "def wind_direction_to_categorical(df):\n",
    "    df['wind_direction'] = df['wind_direction'].apply(degToCompass)\n",
    "    "
   ]
  },
  {
   "cell_type": "markdown",
   "metadata": {},
   "source": [
    "**VACACIONES**"
   ]
  },
  {
   "cell_type": "code",
   "execution_count": 6,
   "metadata": {},
   "outputs": [],
   "source": [
    "# VACACIONES\n",
    "def get_holidays(site):\n",
    "    \n",
    "    df_sites_regions = pd.read_csv(path_dataset_region_sites + 'site_ids.csv')\n",
    "    #print(df_sites_regions[['site_id', 'location', 'country']])\n",
    "    \n",
    "    not_USA_holidays = [1, 5, 7, 11, 12]\n",
    "    \n",
    "    # es americano\n",
    "    if site not in not_USA_holidays:\n",
    "        # limpiamos\n",
    "        state = df_sites_regions[df_sites_regions.site_id == site]\n",
    "        state = state.location.values[0]\n",
    "        state = state.replace(\" \", \"\")\n",
    "        state = state.split(',')[1]\n",
    "\n",
    "        list_holidays = holidays.UnitedStates(state=state)\n",
    "        \n",
    "    # UK\n",
    "    elif site in [1, 5]:\n",
    "        list_holidays = holidays.UnitedKingdom()\n",
    "        \n",
    "    # CANADA\n",
    "    elif site in [7, 11]:\n",
    "        if site == 7:\n",
    "            list_holidays = holidays.Canada(prov='QC')\n",
    "        else:\n",
    "            list_holidays = holidays.Canada(prov='ON')\n",
    "    \n",
    "    # IRLANDA\n",
    "    else:\n",
    "        list_holidays = holidays.Ireland()\n",
    "        \n",
    "    return list_holidays['2016-01-01':'2017-12-31'] +\\\n",
    "    list_holidays['2018-01-01':'2018-12-31'] #esto por el bug que tiene la libreria"
   ]
  },
  {
   "cell_type": "code",
   "execution_count": 7,
   "metadata": {},
   "outputs": [],
   "source": [
    "#https://www.kaggle.com/purist1024/ashrae-simple-data-cleanup-lb-1-08-no-leaks\n",
    "# 3000, 7500\n",
    "def make_is_bad_zero(Xy_subset, min_interval=48,\n",
    "                     summer_start=datetime.datetime(2016,4,1),\n",
    "                     summer_end=datetime.datetime(2016,10,1)):\n",
    "    \"\"\"Helper routine for 'find_bad_zeros'.\n",
    "    \n",
    "    This operates upon a single dataframe produced by 'groupby'. We expect an \n",
    "    additional column 'meter_id' which is a duplicate of 'meter' because groupby \n",
    "    eliminates the original one.\"\"\"\n",
    "    meter = Xy_subset.meter_id.iloc[0]\n",
    "    is_zero = Xy_subset.meter_reading == 0\n",
    "    if meter == 0:\n",
    "        # Electrical meters should never be zero. Keep all zero-readings in this table so that\n",
    "        # they will all be dropped in the train set.\n",
    "        return is_zero\n",
    "\n",
    "    transitions = (is_zero != is_zero.shift(1))\n",
    "    all_sequence_ids = transitions.cumsum()\n",
    "    ids = all_sequence_ids[is_zero].rename(\"ids\")\n",
    "    if meter in [2, 3]:\n",
    "        # It's normal for steam and hotwater to be turned off during the summer\n",
    "        # ++ .timestamp()\n",
    "        keep = set(ids[(Xy_subset.timestamp < summer_start) |\n",
    "                       (Xy_subset.timestamp > summer_end)].unique())\n",
    "        is_bad = ids.isin(keep) & (ids.map(ids.value_counts()) >= min_interval)\n",
    "    elif meter == 1:\n",
    "        time_ids = ids.to_frame().join(Xy_subset.timestamp).set_index(\"timestamp\").ids\n",
    "        is_bad = ids.map(ids.value_counts()) >= min_interval\n",
    "\n",
    "        # Cold water may be turned off during the winter\n",
    "        jan_id = time_ids.get(0, False)\n",
    "        dec_id = time_ids.get(8283, False)\n",
    "        if (jan_id and dec_id and jan_id == time_ids.get(500, False) and\n",
    "                dec_id == time_ids.get(8783, False)):\n",
    "            is_bad = is_bad & (~(ids.isin(set([jan_id, dec_id]))))\n",
    "    else:\n",
    "        raise Exception(f\"Unexpected meter type: {meter}\")\n",
    "\n",
    "    result = is_zero.copy()\n",
    "    result.update(is_bad)\n",
    "    return result\n",
    "\n",
    "def find_bad_zeros(X, y):\n",
    "    \"\"\"Returns an Index object containing only the rows which should be deleted.\"\"\"\n",
    "    Xy = X.assign(meter_reading=y, meter_id=X.meter)\n",
    "    is_bad_zero = Xy.groupby([\"building_id\", \"meter\"]).apply(make_is_bad_zero)\n",
    "    return is_bad_zero[is_bad_zero].index.droplevel([0, 1])\n",
    "\n",
    "def find_bad_sitezero(X):\n",
    "    \"\"\"Returns indices of bad rows from the early days of Site 0 (UCF).\"\"\"\n",
    "    veinte_del_cinco = datetime.datetime(2016,5,20)\n",
    "    return X[(X.timestamp < veinte_del_cinco) & (X.site_id == 0) & (X.meter == 0)].index\n",
    "\n",
    "def find_bad_building1099(X, y):\n",
    "    \"\"\"Returns indices of bad rows (with absurdly high readings) from building 1099.\"\"\"\n",
    "    return X[(X.building_id == 1099) & (X.meter == 2) & (y > 3e4)].index\n",
    "\n",
    "def find_bad_rows(X, y):\n",
    "    return find_bad_zeros(X, y).union(find_bad_sitezero(X)).union(find_bad_building1099(X, y))"
   ]
  },
  {
   "cell_type": "code",
   "execution_count": 8,
   "metadata": {},
   "outputs": [],
   "source": [
    "#https://www.kaggle.com/rohanrao/ashrae-divide-and-conquer\n",
    "def create_lag_features(df, window):\n",
    "    \"\"\"\n",
    "    Creating lag-based features looking back in time.\n",
    "    \"\"\"\n",
    "    \n",
    "    feature_cols = [\"air_temperature\", \"humidity\"]\n",
    "    df_site = df.groupby(\"site_id\")\n",
    "    \n",
    "    df_rolled = df_site[feature_cols].rolling(window=window, min_periods=0)\n",
    "    \n",
    "    df_mean = df_rolled.mean().reset_index().astype(np.float16)\n",
    "    df_median = df_rolled.median().reset_index().astype(np.float16)\n",
    "    df_min = df_rolled.min().reset_index().astype(np.float16)\n",
    "    df_max = df_rolled.max().reset_index().astype(np.float16)\n",
    "    df_std = df_rolled.std().reset_index().astype(np.float16)\n",
    "    df_skew = df_rolled.skew().reset_index().astype(np.float16)\n",
    "    \n",
    "    for feature in feature_cols:\n",
    "        df[f\"{feature}_mean_lag{window}\"] = df_mean[feature]\n",
    "        #df[f\"{feature}_median_lag{window}\"] = df_median[feature]\n",
    "        df[f\"{feature}_min_lag{window}\"] = df_min[feature]\n",
    "        df[f\"{feature}_max_lag{window}\"] = df_max[feature]\n",
    "        #df[f\"{feature}_std_lag{window}\"] = df_std[feature]\n",
    "        #df[f\"{feature}_skew_lag{window}\"] = df_skew[feature]\n",
    "        \n",
    "    return df"
   ]
  },
  {
   "cell_type": "markdown",
   "metadata": {
    "_cell_guid": "3b823785-5d08-4f12-8037-6f1473d7f624",
    "_uuid": "8d4f21ef-b0ba-4578-a8b9-a950e5339c9e"
   },
   "source": [
    "Para ajustar la temperatura\n",
    "# # ---"
   ]
  },
  {
   "cell_type": "code",
   "execution_count": 9,
   "metadata": {
    "_cell_guid": "6546cbfe-d4ff-49c7-ba6c-25afe5f12f1a",
    "_uuid": "4c202726-7a35-4ac9-957f-619716ff9cbe"
   },
   "outputs": [
    {
     "name": "stdout",
     "output_type": "stream",
     "text": [
      "CPU times: user 768 ms, sys: 100 ms, total: 868 ms\n",
      "Wall time: 1.18 s\n"
     ]
    }
   ],
   "source": [
    "%%time\n",
    "weather_dtypes = {\n",
    "    'site_id': np.uint8,\n",
    "    'air_temperature': np.float32,\n",
    "    'cloud_coverage': np.float32,\n",
    "    'dew_temperature': np.float32,\n",
    "    'precip_depth_1_hr': np.float32,\n",
    "    'sea_level_pressure': np.float32,\n",
    "    'wind_direction': np.float32,\n",
    "    'wind_speed': np.float32,\n",
    "}\n",
    "\n",
    "weather_train = pd.read_csv(path_weather_train,dtype=weather_dtypes,\n",
    "    parse_dates=['timestamp'])\n",
    "weather_test = pd.read_csv(path_weather_test,dtype=weather_dtypes,\n",
    "    parse_dates=['timestamp'])\n",
    "\n",
    "weather = pd.concat([weather_train,weather_test],ignore_index=True)\n",
    "#del weather_train, weather_test\n",
    "weather_key = ['site_id', 'timestamp']\n",
    "temp_skeleton = weather[weather_key + ['air_temperature']].drop_duplicates(subset=weather_key).sort_values(by=weather_key).copy()\n",
    "del weather, weather_train, weather_test"
   ]
  },
  {
   "cell_type": "code",
   "execution_count": 10,
   "metadata": {
    "_cell_guid": "7a01e052-46f3-4234-a9e1-8c99ab1351f9",
    "_uuid": "92f7a0bb-03a8-4f47-80dd-4d05c65c7c65"
   },
   "outputs": [
    {
     "name": "stdout",
     "output_type": "stream",
     "text": [
      "CPU times: user 620 ms, sys: 16 ms, total: 636 ms\n",
      "Wall time: 585 ms\n"
     ]
    }
   ],
   "source": [
    "%%time\n",
    "# calculate ranks of hourly temperatures within date/site_id chunks\n",
    "temp_skeleton['temp_rank'] = temp_skeleton.groupby(['site_id', temp_skeleton.timestamp.dt.date])['air_temperature'].rank('average')\n",
    "\n",
    "# create a dataframe of site_ids (0-16) x mean hour rank of temperature within day (0-23)\n",
    "df_2d = temp_skeleton.groupby(['site_id', temp_skeleton.timestamp.dt.hour])['temp_rank'].mean().unstack(level=1)\n",
    "\n",
    "# Subtract the columnID of temperature peak by 14, getting the timestamp alignment gap.\n",
    "# La hora pico de temperatura suele estar sobre las 8-9 de la tarde en el dataset (deberia estar), por lo que se le resta 14\n",
    "#(a las dos suele ser la hora pico), dando un array de offsets/desplazamientos --> cuantas veces hay que moverse\n",
    "site_ids_offsets = pd.Series(df_2d.values.argmax(axis=1) - 14)\n",
    "site_ids_offsets.index.name = 'site_id'\n",
    "\n",
    "del df_2d\n",
    "gc.collect()\n",
    "\n",
    "def timestamp_align(df):\n",
    "    df['offset'] = df.site_id.map(site_ids_offsets)\n",
    "    df['timestamp_aligned'] = (df.timestamp - pd.to_timedelta(df.offset, unit='H'))\n",
    "    df['timestamp'] = df['timestamp_aligned']\n",
    "    del df['timestamp_aligned']\n",
    "    return df"
   ]
  },
  {
   "cell_type": "markdown",
   "metadata": {
    "_cell_guid": "20fcdb98-f933-416b-8cd9-ae927f51e604",
    "_uuid": "fd89ed16-8ad5-4c66-bb56-1493800a64b4"
   },
   "source": [
    "El resto\n",
    " ---"
   ]
  },
  {
   "cell_type": "code",
   "execution_count": 11,
   "metadata": {
    "_cell_guid": "20b2f8fc-b3d2-4806-b72b-29267eced38a",
    "_uuid": "97730aab-8af2-4579-8e96-5ed1492194a7"
   },
   "outputs": [],
   "source": [
    "CATEGORY_COLS = [  \"building_id\",\"site_id\", \"meter\", \"primary_use\",\n",
    "                'is_weekend',\"hour\",\"weekday\" ,\"year\"] #, 'weekofmonth',\n",
    "# ,'is_holiday'\"hour\", \"weekday\", , 'year_built'\n",
    "#,'beaufort_scale', 'wind_direction''is_summer',\n",
    "\n",
    "FEATURE_COLS = ['square_feet', 'floor_count'] + [\n",
    "    'air_temperature', 'cloud_coverage',\n",
    "    'dew_temperature',  'wind_speed']  #+windspeed --'precip_depth_1_hr',\n",
    "\n",
    "USAR_LEAKED_DATA = False"
   ]
  },
  {
   "cell_type": "code",
   "execution_count": 12,
   "metadata": {
    "_cell_guid": "5fd71733-7979-43fd-bc76-8c2615ab5f0f",
    "_kg_hide-input": true,
    "_kg_hide-output": true,
    "_uuid": "463a9374-2e79-49a4-907b-6775f9ca7d43"
   },
   "outputs": [],
   "source": [
    "## Memory optimization\n",
    "\n",
    "# Original code from https://www.kaggle.com/gemartin/load-data-reduce-memory-usage by @gemartin\n",
    "# Modified to support timestamp type, categorical type\n",
    "# Modified to add option to use float16\n",
    "\n",
    "from pandas.api.types import is_datetime64_any_dtype as is_datetime\n",
    "from pandas.api.types import is_categorical_dtype\n",
    "\n",
    "def reduce_mem_usage(df, use_float16=False):\n",
    "    \"\"\"\n",
    "    Iterate through all the columns of a dataframe and modify the data type to reduce memory usage.        \n",
    "    \"\"\"\n",
    "    \n",
    "    start_mem = df.memory_usage().sum() / 1024**2\n",
    "    print(\"Memory usage of dataframe is {:.2f} MB\".format(start_mem))\n",
    "    \n",
    "    for col in df.columns:\n",
    "        if is_datetime(df[col]) or is_categorical_dtype(df[col]):\n",
    "            continue\n",
    "        col_type = df[col].dtype\n",
    "        \n",
    "        if col_type != object:\n",
    "            c_min = df[col].min()\n",
    "            c_max = df[col].max()\n",
    "            if str(col_type)[:3] == \"int\":\n",
    "                if c_min > np.iinfo(np.int8).min and c_max < np.iinfo(np.int8).max:\n",
    "                    df[col] = df[col].astype(np.int8)\n",
    "                elif c_min > np.iinfo(np.int16).min and c_max < np.iinfo(np.int16).max:\n",
    "                    df[col] = df[col].astype(np.int16)\n",
    "                elif c_min > np.iinfo(np.int32).min and c_max < np.iinfo(np.int32).max:\n",
    "                    df[col] = df[col].astype(np.int32)\n",
    "                elif c_min > np.iinfo(np.int64).min and c_max < np.iinfo(np.int64).max:\n",
    "                    df[col] = df[col].astype(np.int64)  \n",
    "            else:\n",
    "                if use_float16 and c_min > np.finfo(np.float16).min and c_max < np.finfo(np.float16).max:\n",
    "                    df[col] = df[col].astype(np.float16)\n",
    "                elif c_min > np.finfo(np.float32).min and c_max < np.finfo(np.float32).max:\n",
    "                    df[col] = df[col].astype(np.float32)\n",
    "                else:\n",
    "                    df[col] = df[col].astype(np.float64)\n",
    "        else:\n",
    "            df[col] = df[col].astype(\"category\")\n",
    "\n",
    "    end_mem = df.memory_usage().sum() / 1024**2\n",
    "    print(\"Memory usage after optimization is: {:.2f} MB\".format(end_mem))\n",
    "    print(\"Decreased by {:.1f}%\".format(100 * (start_mem - end_mem) / start_mem))\n",
    "    \n",
    "    return df"
   ]
  },
  {
   "cell_type": "code",
   "execution_count": 13,
   "metadata": {},
   "outputs": [],
   "source": [
    "# Original code from https://www.kaggle.com/aitude/ashrae-missing-weather-data-handling by @aitude\n",
    "def fill_weather_dataset(weather_df):\n",
    "    \n",
    "    # Find Missing Dates\n",
    "    time_format = \"%Y-%m-%d %H:%M:%S\"\n",
    "    start_date = datetime.datetime.strptime(weather_df['timestamp'].min(),time_format)\n",
    "    end_date = datetime.datetime.strptime(weather_df['timestamp'].max(),time_format)\n",
    "    total_hours = int(((end_date - start_date).total_seconds() + 3600) / 3600)\n",
    "    hours_list = [(end_date - datetime.timedelta(hours=x)).strftime(time_format) for x in range(total_hours)]\n",
    "\n",
    "    missing_hours = []\n",
    "    for site_id in range(16):\n",
    "        site_hours = np.array(weather_df[weather_df['site_id'] == site_id]['timestamp'])\n",
    "        new_rows = pd.DataFrame(np.setdiff1d(hours_list,site_hours),columns=['timestamp'])\n",
    "        new_rows['site_id'] = site_id\n",
    "        weather_df = pd.concat([weather_df,new_rows])\n",
    "\n",
    "        weather_df = weather_df.reset_index(drop=True)     \n",
    "    \n",
    "        # Add new Features\n",
    "    weather_df[\"datetime\"] = pd.to_datetime(weather_df[\"timestamp\"])\n",
    "    weather_df[\"day\"] = weather_df[\"datetime\"].dt.day\n",
    "    weather_df[\"week\"] = weather_df[\"datetime\"].dt.week\n",
    "    weather_df[\"month\"] = weather_df[\"datetime\"].dt.month\n",
    "    \n",
    "    # Reset Index for Fast Update\n",
    "    weather_df = weather_df.set_index(['site_id','day','month'])\n",
    "\n",
    "    air_temperature_filler = pd.DataFrame(weather_df.groupby(['site_id','day','month'])['air_temperature'].mean(),columns=[\"air_temperature\"])\n",
    "    weather_df.update(air_temperature_filler,overwrite=False)\n",
    "\n",
    "    # Step 1\n",
    "    cloud_coverage_filler = weather_df.groupby(['site_id','day','month'])['cloud_coverage'].mean()\n",
    "    # Step 2\n",
    "    cloud_coverage_filler = pd.DataFrame(cloud_coverage_filler.fillna(method='ffill'),columns=[\"cloud_coverage\"])\n",
    "\n",
    "    weather_df.update(cloud_coverage_filler,overwrite=False)\n",
    "\n",
    "    due_temperature_filler = pd.DataFrame(weather_df.groupby(['site_id','day','month'])['dew_temperature'].mean(),columns=[\"dew_temperature\"])\n",
    "    weather_df.update(due_temperature_filler,overwrite=False)\n",
    "\n",
    "    # Step 1\n",
    "    sea_level_filler = weather_df.groupby(['site_id','day','month'])['sea_level_pressure'].mean()\n",
    "    # Step 2\n",
    "    sea_level_filler = pd.DataFrame(sea_level_filler.fillna(method='ffill'),columns=['sea_level_pressure'])\n",
    "\n",
    "    weather_df.update(sea_level_filler,overwrite=False)\n",
    "\n",
    "    wind_direction_filler =  pd.DataFrame(weather_df.groupby(['site_id','day','month'])['wind_direction'].mean(),columns=['wind_direction'])\n",
    "    weather_df.update(wind_direction_filler,overwrite=False)\n",
    "\n",
    "    wind_speed_filler =  pd.DataFrame(weather_df.groupby(['site_id','day','month'])['wind_speed'].mean(),columns=['wind_speed'])\n",
    "    weather_df.update(wind_speed_filler,overwrite=False)\n",
    "\n",
    "    # Step 1\n",
    "    precip_depth_filler = weather_df.groupby(['site_id','day','month'])['precip_depth_1_hr'].mean()\n",
    "    # Step 2\n",
    "    precip_depth_filler = pd.DataFrame(precip_depth_filler.fillna(method='ffill'),columns=['precip_depth_1_hr'])\n",
    "\n",
    "    weather_df.update(precip_depth_filler,overwrite=False)\n",
    "\n",
    "    weather_df = weather_df.reset_index()\n",
    "    weather_df = weather_df.drop(['datetime','day','week','month'],axis=1)\n",
    "        \n",
    "    return weather_df"
   ]
  },
  {
   "cell_type": "markdown",
   "metadata": {},
   "source": [
    "**Outliers**"
   ]
  },
  {
   "cell_type": "code",
   "execution_count": 14,
   "metadata": {},
   "outputs": [],
   "source": [
    "# outlierrs\n",
    "def detect_outlier(data_1):\n",
    "    \n",
    "    # threshold=8\n",
    "    return data_1[np.abs((data_1- np.mean(data_1))/np.std(data_1)) > 8].values\n",
    "\n",
    "def remove_outliers(df):\n",
    "    \n",
    "    outliers_tuples = []\n",
    "    for building in df.building_id.unique():\n",
    "        print(building)\n",
    "        for meter in df[df['building_id'] == building].meter.unique():\n",
    "            outliers = detect_outlier(df[(df['building_id'] == building) & (df['meter'] == meter)].meter_reading)\n",
    "            if len(outliers) == 1:\n",
    "                outliers_tuples.append([building, meter, outliers[0]])\n",
    "                \n",
    "    return outliers_tuples\n",
    "            \n",
    "        "
   ]
  },
  {
   "cell_type": "code",
   "execution_count": 15,
   "metadata": {},
   "outputs": [],
   "source": [
    "candidatos_out = [\n",
    "    [60,1], [101,0],[103,1],[112,3], [138,3], [144,3], [745,1], [755,1], [762,2], [765,1], [769,1],[769,2], [770,1], [771,1],\n",
    "    [776,1], [777,1],[787,1], [1000,0], [1000,3],[1003,1], [1017,1], [1017,3], [1018,1], [1276, 1], [1426, 2]\n",
    "]\n",
    "#candidatos_out = []"
   ]
  },
  {
   "cell_type": "code",
   "execution_count": 16,
   "metadata": {
    "_cell_guid": "d4639a4f-461a-47a3-b7e0-8246fbab4140",
    "_uuid": "a5f4e519-ed08-40cf-8dfa-50b98a820628"
   },
   "outputs": [
    {
     "name": "stdout",
     "output_type": "stream",
     "text": [
      "[112.0, 3.0]\n",
      "0\n",
      "[138.0, 3.0]\n",
      "1\n",
      "[144.0, 3.0]\n",
      "2\n",
      "[745.0, 1.0]\n",
      "3\n",
      "[755.0, 1.0]\n",
      "4\n",
      "[762.0, 2.0]\n",
      "5\n",
      "[765.0, 1.0]\n",
      "6\n",
      "[769.0, 2.0]\n",
      "7\n",
      "[769.0, 1.0]\n",
      "8\n",
      "[770.0, 1.0]\n",
      "9\n",
      "[771.0, 1.0]\n",
      "10\n",
      "[776.0, 1.0]\n",
      "11\n",
      "[777.0, 1.0]\n",
      "12\n",
      "[787.0, 1.0]\n",
      "13\n",
      "[1000.0, 0.0]\n",
      "14\n",
      "[1000.0, 3.0]\n",
      "15\n",
      "[1003.0, 1.0]\n",
      "16\n",
      "[1017.0, 1.0]\n",
      "17\n",
      "[1017.0, 3.0]\n",
      "18\n",
      "[1018.0, 1.0]\n",
      "19\n",
      "[1276.0, 1.0]\n",
      "20\n",
      "[1426.0, 2.0]\n",
      "21\n",
      "[60.0, 1.0]\n",
      "22\n",
      "[103.0, 1.0]\n",
      "23\n",
      "[101.0, 0.0]\n",
      "24\n",
      "CPU times: user 37.7 s, sys: 20.4 s, total: 58.1 s\n",
      "Wall time: 51.5 s\n"
     ]
    }
   ],
   "source": [
    "%%time\n",
    "if DO_TRAIN == True:\n",
    "    df_train = pd.read_csv(path_train)#.sample(10000)\n",
    "    df_train['timestamp'] = pd.to_datetime(df_train['timestamp'])\n",
    "    df_train = df_train.query('not (building_id <= 104 & meter == 0 & timestamp <= \"2016-05-20\")') #++\n",
    "    df_train = df_train.query('not (building_id == 1099 & meter == 2 & meter_reading > 3e4)') #outlier\n",
    "\n",
    "    # csv outliers\n",
    "    outliers = pd.read_csv('/kaggle/input/outliers-energydemand/outliers.csv')\n",
    "    count = 0\n",
    "    for index, fila in outliers.iterrows():\n",
    "        if [fila.building_id, fila.meter] in candidatos_out:\n",
    "            print([fila.building_id, fila.meter])\n",
    "            print(count)\n",
    "            count += 1\n",
    "            df_train = df_train.query('not (building_id == ' + str(int(fila.building_id)) +\\\n",
    "                                      ' & meter == ' + str(int(fila.meter)) +\\\n",
    "                                      ' & meter_reading >= ' + str(fila.meter_reading) + ')')\n",
    "    del outliers\n",
    "    gc.collect()\n",
    "\n",
    "    #get_summer(df_train)\n",
    "    # fin de semana\n",
    "    is_weekend(df_train) #++\n",
    "\n",
    "# BUILDING META\n",
    "building = pd.read_csv(path_building)\n",
    "le = LabelEncoder()\n",
    "building.primary_use = le.fit_transform(building.primary_use)"
   ]
  },
  {
   "cell_type": "code",
   "execution_count": 17,
   "metadata": {},
   "outputs": [
    {
     "name": "stderr",
     "output_type": "stream",
     "text": [
      "/opt/conda/lib/python3.6/site-packages/ipykernel_launcher.py:16: FutureWarning: Sorting because non-concatenation axis is not aligned. A future version\n",
      "of pandas will change to not sort by default.\n",
      "\n",
      "To accept the future behavior, pass 'sort=False'.\n",
      "\n",
      "To retain the current behavior and silence the warning, pass 'sort=True'.\n",
      "\n",
      "  app.launch_new_instance()\n"
     ]
    },
    {
     "name": "stdout",
     "output_type": "stream",
     "text": [
      "CPU times: user 19.7 s, sys: 236 ms, total: 19.9 s\n",
      "Wall time: 19.3 s\n"
     ]
    }
   ],
   "source": [
    "%%time\n",
    "if DO_TRAIN == True:\n",
    "    weather_train = pd.read_csv(path_weather_train)\n",
    "    #rellenar nans \n",
    "    weather_train = fill_weather_dataset(weather_train)\n",
    "    # a datetime\n",
    "    weather_train['timestamp'] = pd.to_datetime(weather_train['timestamp'])\n",
    "    # ajustar horas de temperaturas\n",
    "    weather_train = timestamp_align(weather_train)"
   ]
  },
  {
   "cell_type": "code",
   "execution_count": 18,
   "metadata": {},
   "outputs": [
    {
     "name": "stdout",
     "output_type": "stream",
     "text": [
      "Humedad\n",
      "CPU times: user 8 ms, sys: 0 ns, total: 8 ms\n",
      "Wall time: 4.13 ms\n"
     ]
    }
   ],
   "source": [
    "%%time\n",
    "if DO_TRAIN == True:\n",
    "    print('Humedad')\n",
    "    humidity(weather_train)\n",
    "    #print('Feels like')\n",
    "    #feels_like_df(weather_train)"
   ]
  },
  {
   "cell_type": "code",
   "execution_count": 19,
   "metadata": {},
   "outputs": [
    {
     "name": "stdout",
     "output_type": "stream",
     "text": [
      "CPU times: user 0 ns, sys: 0 ns, total: 0 ns\n",
      "Wall time: 9.78 µs\n"
     ]
    }
   ],
   "source": [
    "%%time\n",
    "#if DO_TRAIN == True:\n",
    "    #weather_train = create_lag_features(weather_train, 24)\n",
    "    #weather_train = create_lag_features(weather_train, 48)\n",
    "    # TODO probar +48"
   ]
  },
  {
   "cell_type": "code",
   "execution_count": 20,
   "metadata": {},
   "outputs": [
    {
     "name": "stdout",
     "output_type": "stream",
     "text": [
      "Calculando semana del mes...\n",
      "(19866510, 5)\n",
      "CPU times: user 0 ns, sys: 0 ns, total: 0 ns\n",
      "Wall time: 138 µs\n"
     ]
    }
   ],
   "source": [
    "%%time\n",
    "if DO_TRAIN == True:\n",
    "    print('Calculando semana del mes...')\n",
    "    #df_train['weekofmonth'] = df_train['timestamp'].apply(get_week_of_month) #++\n",
    "\n",
    "    # para los meses negativos \n",
    "    # 53 porque es bisiesto\n",
    "    #df_train.loc[df_train.weekofmonth < 0, 'weekofmonth'] = 53 + df_train.loc[df_train.weekofmonth < 0, 'weekofmonth'] #++\n",
    "    print(df_train.shape)"
   ]
  },
  {
   "cell_type": "code",
   "execution_count": 21,
   "metadata": {
    "_cell_guid": "73922343-28da-4e46-b6df-87ae9eb6bd9d",
    "_uuid": "199f5e6f-65c9-4839-b26f-7d173d5b1718"
   },
   "outputs": [
    {
     "name": "stdout",
     "output_type": "stream",
     "text": [
      "Memory usage of dataframe is 909.42 MB\n",
      "Memory usage after optimization is: 454.71 MB\n",
      "Decreased by 50.0%\n",
      "Memory usage of dataframe is 0.07 MB\n",
      "Memory usage after optimization is: 0.02 MB\n",
      "Decreased by 66.5%\n",
      "Memory usage of dataframe is 11.80 MB\n",
      "Memory usage after optimization is: 5.63 MB\n",
      "Decreased by 52.3%\n"
     ]
    }
   ],
   "source": [
    "if DO_TRAIN == True:\n",
    "    df_train = reduce_mem_usage(df_train)\n",
    "    building = reduce_mem_usage(building)\n",
    "    weather_train = reduce_mem_usage(weather_train)"
   ]
  },
  {
   "cell_type": "markdown",
   "metadata": {
    "_cell_guid": "b2343bc5-14b5-4ee5-8f55-3c2a375cda74",
    "_uuid": "dba843bd-10a1-4c8b-99ba-cc98c741b855"
   },
   "source": [
    "## Preparing data\n",
    "There are two files with features that need to be merged with the data. One is building metadata that has information on the buildings and the other is weather data that has information on the weather.   \n",
    "\n",
    "Note that the only features created are hour, weekday and is_holiday!"
   ]
  },
  {
   "cell_type": "code",
   "execution_count": 22,
   "metadata": {
    "_cell_guid": "5cad6753-3c2a-41ef-bfe8-ae96eb684d28",
    "_uuid": "fa0ee6c6-c5d4-407c-8165-b3cd7b5a8d53"
   },
   "outputs": [],
   "source": [
    "def prepare_data(X, building_data, weather_data, test=False):\n",
    "    \"\"\"\n",
    "    Preparing final dataset with all features.\n",
    "    \"\"\"\n",
    "    \n",
    "    X = X.merge(building_data, on=\"building_id\", how=\"left\")\n",
    "    X = X.merge(weather_data, on=[\"site_id\", \"timestamp\"], how=\"left\")\n",
    "    \n",
    "    X.sort_values(\"timestamp\")\n",
    "    X.reset_index(drop=True)\n",
    "    \n",
    "    gc.collect()\n",
    "    \n",
    "    #X.timestamp = pd.to_datetime(X.timestamp, format=\"%Y-%m-%d %H:%M:%S\")\n",
    "    X.square_feet = np.log1p(X.square_feet)\n",
    "    \n",
    "    X['year'] = np.uint8(X['timestamp'].dt.year) #++\n",
    "    #X['week'] = np.uint8(X['timestamp'].dt.week) #++\n",
    "    #X['day'] = X['timestamp'].dt.day #++\n",
    "    X[\"hour\"] = np.uint8(X.timestamp.dt.hour) #--\n",
    "    X[\"weekday\"] = np.uint8(X.timestamp.dt.weekday) #--\n",
    "    #X['year_built'] = np.uint8(X['year_built']-1900) #++\n",
    "    #X['hourofyear']  = np.uint16(np.uint16(X.timestamp.dt.dayofyear) * (np.uint8(X.timestamp.dt.hour) + 1))\n",
    "    \n",
    "    #X[\"is_holiday\"] = (X.timestamp.dt.date.astype(\"str\").isin(holidays)).astype(int) #--\n",
    "    '''\n",
    "    X[\"is_holiday\"] = np.zeros(X.shape[0], dtype=int)\n",
    "    for site in range(0, 16):\n",
    "        print('Llenando vacaciones de sitio ', site)\n",
    "        X.loc[X.site_id == site, \"is_holiday\"] = (X.timestamp.dt.date.isin(get_holidays(site))).astype(int)\n",
    "        gc.collect()\n",
    "\n",
    "    # https://www.kaggle.com/ragnar123/another-1-08-lb-no-leak\n",
    "    X['group'] = X['timestamp'].dt.month\n",
    "    X['group'].replace((1, 2, 3, 4), 1, inplace = True)\n",
    "    X['group'].replace((5, 6, 7, 8), 2, inplace = True)\n",
    "    X['group'].replace((9, 10, 11, 12), 3, inplace = True)\n",
    "    '''\n",
    "    # nuevas\n",
    "    #beaufort_scale(X)\n",
    "    #wind_direction_to_categorical(X)\n",
    "    \n",
    "    drop_features = [\"sea_level_pressure\", 'floor_count', 'offset',\n",
    "                    'precip_depth_1_hr','year_built', \"wind_direction\",\n",
    "                     'dew_temperature']  #'timestamp', 'feels', 'beaufort_scale',\n",
    "    \n",
    "    if 'floor_count' not in drop_features:\n",
    "        # para tratar el enorme numero de floor_count a Nan\n",
    "        X['floor_count'] = X['floor_count'].fillna(1)\n",
    "\n",
    "    X.drop(drop_features, axis=1, inplace=True)\n",
    "\n",
    "    if test:\n",
    "        row_ids = X.row_id\n",
    "        X.drop(\"row_id\", axis=1, inplace=True)\n",
    "        X.drop(['timestamp'], axis=1, inplace=True) #++\n",
    "        return X, row_ids\n",
    "    else:\n",
    "        y = np.log1p(X.meter_reading)\n",
    "        X.drop(\"meter_reading\", axis=1, inplace=True)\n",
    "        '''\n",
    "        # bad rows\n",
    "        print('shape', X.shape)\n",
    "        bad_rows = find_bad_rows(X, y)\n",
    "        X = X.drop(bad_rows)\n",
    "        print('bad rows', bad_rows.shape)\n",
    "        print('shape', X.shape)\n",
    "        y = y.drop(bad_rows)\n",
    "        '''\n",
    "        X.drop(['timestamp'], axis=1, inplace=True)\n",
    "\n",
    "        return X, y\n",
    "   \n",
    "#----------------------------------------------------------------------------------------------------------------------------------------\n",
    "def get_leak_validation():\n",
    "    \n",
    "    leak_df = pd.read_feather('../input/ashrae-leak-data-station/leak.feather')#.sample(10000)\n",
    "    leak_df.fillna(0, inplace=True)\n",
    "    leak_df = leak_df[(leak_df.timestamp.dt.year > 2016) & (leak_df.timestamp.dt.year < 2019)]\n",
    "    leak_df.loc[leak_df.meter_reading < 0, 'meter_reading'] = 0 # remove large negative values\n",
    "    leak_df = leak_df[leak_df.building_id!=245]\n",
    "    print(leak_df.shape)\n",
    "    \n",
    "    # lo que se necesita para estar ok\n",
    "    #print('Calculando semana del mes...')\n",
    "    leak_df['timestamp'] = pd.to_datetime(leak_df['timestamp'])\n",
    "    #leak_df['weekofmonth'] = leak_df['timestamp'].apply(get_week_of_month)\n",
    "    # para los meses negativos\n",
    "    #leak_df.loc[leak_df.weekofmonth < 0, 'weekofmonth'] = 52 + leak_df.loc[leak_df.weekofmonth < 0, 'weekofmonth'] \n",
    "    \n",
    "    is_weekend(leak_df)\n",
    "\n",
    "    print('temperatura leak')\n",
    "    weather_test = pd.read_csv(path_weather_test)\n",
    "    weather_test = fill_weather_dataset(weather_test)\n",
    "    weather_test['timestamp'] = pd.to_datetime(weather_test['timestamp'])\n",
    "    weather_test = timestamp_align(weather_test)\n",
    "    humidity(weather_test)\n",
    "    #feels_like_df(weather_test)\n",
    "\n",
    "    leak_df = reduce_mem_usage(leak_df)\n",
    "    weather_test = reduce_mem_usage(weather_test)\n",
    "    gc.collect()\n",
    "    \n",
    "    print('Juntando leak')\n",
    "    X_train_leak, y_train_leak = prepare_data(leak_df, building, weather_test)\n",
    "    del leak_df, weather_test\n",
    "    gc.collect()\n",
    "    \n",
    "    return X_train_leak, y_train_leak"
   ]
  },
  {
   "cell_type": "code",
   "execution_count": 23,
   "metadata": {
    "_cell_guid": "731b6804-a594-481b-9921-fe8b4e8c2395",
    "_kg_hide-output": false,
    "_uuid": "0e10bd0c-1ef6-427a-bbb0-c467f632c7d2"
   },
   "outputs": [
    {
     "name": "stdout",
     "output_type": "stream",
     "text": [
      "CPU times: user 17.3 s, sys: 10.5 s, total: 27.8 s\n",
      "Wall time: 25 s\n"
     ]
    }
   ],
   "source": [
    "%%time\n",
    "if DO_TRAIN == True:\n",
    "    X_train, y_train = prepare_data(df_train, building, weather_train)\n",
    "    #X_train = X_train.drop(columns=[\"index\"])\n",
    "    del df_train, weather_train\n",
    "    gc.collect()"
   ]
  },
  {
   "cell_type": "markdown",
   "metadata": {
    "_cell_guid": "33c30319-6bbe-469e-a8b3-1461011da7f4",
    "_uuid": "e0889554-d431-4044-864d-d43c6108591a"
   },
   "source": [
    "AQUI LOS ALGORITMOS \n",
    "---"
   ]
  },
  {
   "cell_type": "code",
   "execution_count": 24,
   "metadata": {
    "_cell_guid": "a4e648f6-93aa-4902-a74b-419e587e61c4",
    "_uuid": "b8f445e5-21ad-4a5b-a84d-72cb7715447b"
   },
   "outputs": [
    {
     "data": {
      "text/plain": [
       "'\\nparams = {\"objective\": \"regression\",\\n                  \"num_leaves\": 600,\\n                  \"learning_rate\": 0.005,\\n                  \"bagging_freq\": 5,\\n                  \"bagging_fraction\": 0.51,\\n                  \"feature_fraction\": 0.81,\\n                  \"metric\": \"rmse\"\\n                  }\\n'"
      ]
     },
     "execution_count": 24,
     "metadata": {},
     "output_type": "execute_result"
    }
   ],
   "source": [
    "metric = 'rmse' \n",
    "tecnica_split = 'normal'\n",
    "params = {\n",
    "    \"objective\": \"regression\",\n",
    "    \"boosting\": \"gbdt\", #gbdt\n",
    "    \"num_leaves\": 600, #600 numero hojas por arbol\n",
    "    \"learning_rate\": 0.005, #0.005\n",
    "    \"feature_fraction\": 0.85,\n",
    "    #'bagging_fraction': 0.85,\n",
    "    #'max_bin': 512,\n",
    "    #'reg_alpha': 5,#lambda1\n",
    "    \"reg_lambda\": 2, #lambda2\n",
    "    #'max_depth': 15, #++\n",
    "    #'min_data_in_leaf': 5, #++\n",
    "    #'min_child_weight': 1,\n",
    "    #'min_split_gain': 0.001,\n",
    "    \"metric\": metric\n",
    "}\n",
    "'''\n",
    "params = {\"objective\": \"regression\",\n",
    "                  \"num_leaves\": 600,\n",
    "                  \"learning_rate\": 0.005,\n",
    "                  \"bagging_freq\": 5,\n",
    "                  \"bagging_fraction\": 0.51,\n",
    "                  \"feature_fraction\": 0.81,\n",
    "                  \"metric\": \"rmse\"\n",
    "                  }\n",
    "'''"
   ]
  },
  {
   "cell_type": "code",
   "execution_count": 25,
   "metadata": {
    "_cell_guid": "f05544d5-bbc6-40a6-b578-195a6a182aa4",
    "_uuid": "c995fab0-c470-4664-b126-271bfc86ebac"
   },
   "outputs": [],
   "source": [
    "#---------------------------------------------------------------------------------------------\n",
    "def LIGHTGBM_model(metric, params, train_set, valid_sets):\n",
    "    \n",
    "    print('Lightgbm model')\n",
    "    model_lgbm = lgb.train(params,\n",
    "                           train_set=train_set, num_boost_round=6000, valid_sets=valid_sets,\n",
    "                           verbose_eval=200, early_stopping_rounds=500)\n",
    "    print('best_score', model_lgbm.best_score)\n",
    "    log = {'train/mae': model_lgbm.best_score['training'][metric],\n",
    "           'valid/mae': model_lgbm.best_score['valid_1'][metric]}\n",
    "    \n",
    "    return model_lgbm, log\n",
    "\n",
    "#---------------------------------------------------------------------------------------------  "
   ]
  },
  {
   "cell_type": "code",
   "execution_count": 26,
   "metadata": {
    "_cell_guid": "c58429b8-ef5a-4e0b-88d2-179883f60d4e",
    "_uuid": "c9a25548-ff86-4a82-a2e6-3907b6a29583"
   },
   "outputs": [],
   "source": [
    "\n",
    "folds =3\n",
    "seed = 666\n",
    "shuffle = False\n",
    "group_folds_label = ['building_id'] # ,building_id, weekofmonth\n",
    "DO_FOLDS = True\n",
    "kf = KFold(n_splits=folds, shuffle=shuffle, random_state=seed)\n",
    "skf = StratifiedKFold(n_splits=folds, shuffle=shuffle, random_state=seed)\n",
    "LIBRERIA = 'lgb' #cat, lgb, xgb"
   ]
  },
  {
   "cell_type": "code",
   "execution_count": 27,
   "metadata": {
    "_cell_guid": "60dceda4-1f42-4800-ae5a-aec25941e3fc",
    "_uuid": "61fff533-738b-4cc1-8cea-6edd2eb461e3"
   },
   "outputs": [],
   "source": [
    "#------------------------------------------------------------------------------------------------------------\n",
    "def validate_with_leak(X_train, y_train):\n",
    "    \n",
    "    leak_valid_x, leak_valid_y = get_leak_validation()\n",
    "    y_pred_valid = np.zeros(leak_valid_x.shape[0])\n",
    "    \n",
    "    print('Preparando datasets')\n",
    "    d_train = lgb.Dataset(X_train, label=y_train, categorical_feature=CATEGORY_COLS)\n",
    "    d_valid = lgb.Dataset(leak_valid_x, label=leak_valid_y, categorical_feature=CATEGORY_COLS)\n",
    "    watchlist = [d_train, d_valid]\n",
    "\n",
    "    model, log = LIGHTGBM_model(metric, params, d_train, watchlist)\n",
    "\n",
    "    print('Prediccion...')\n",
    "    y_pred_valid = model.predict(leak_valid_x, num_iteration=model.best_iteration)\n",
    "\n",
    "    plot_fi(model)\n",
    "    # save model\n",
    "    joblib.dump(model, LIBRERIA + '_' + 'leak' + '.pkl')\n",
    "    \n",
    "    print('RMSE:', np.sqrt(mean_squared_error( np.clip(leak_valid_y, 0, np.max(leak_valid_y)),\n",
    "                                              np.clip(y_pred_valid, 0,np.max(y_pred_valid) ))))\n",
    "    return [model]\n",
    "#-------------------------------------------------------------------------------------------------------------\n",
    "def leak_kfolds(X_train, y_train, kf):\n",
    "    \n",
    "    n_folds = 0\n",
    "    leak_valid_x, leak_valid_y = get_leak_validation()\n",
    "    y_valid_pred_total = np.zeros(leak_valid_x.shape[0])\n",
    "    \n",
    "    modelos = []\n",
    "    for train_idx, valid_idx in kf.split(X_train, y_train, groups=X_train[group_folds_label]): #kf.split(...)\n",
    "        print('Folds --> ', n_folds)\n",
    "        n_folds += 1\n",
    "        X_train_fold, y_train_fold = X_train.iloc[train_idx,:], y_train[train_idx]\n",
    "        print('train', len(train_idx), 'valid', len(leak_valid_y))\n",
    "        #--------------------------------------------------------------------------------------------\n",
    "        d_train = lgb.Dataset(X_train_fold, label=y_train_fold, categorical_feature=CATEGORY_COLS)\n",
    "        d_valid = lgb.Dataset(leak_valid_x, label=leak_valid_y, categorical_feature=CATEGORY_COLS)\n",
    "        watchlist = [d_train, d_valid]\n",
    "\n",
    "        model, log = LIGHTGBM_model(metric, params, d_train, watchlist)\n",
    "\n",
    "        y_pred_valid = np.zeros(leak_valid_x.shape[0])\n",
    "        y_pred_valid = model.predict(leak_valid_x, num_iteration=model.best_iteration)\n",
    "        print('RMSE SUB MODELO: ', np.sqrt(mean_squared_error( np.clip(leak_valid_y, 0, np.max(leak_valid_y)),\n",
    "                                              np.clip(y_pred_valid, 0,np.max(y_pred_valid) ))))\n",
    "\n",
    "        plot_fi(model)\n",
    "        #--------------------------------------------------------------------------------------------\n",
    "        # save model\n",
    "        joblib.dump(model, LIBRERIA + '_' + 'leak_' +  str(n_folds) + '.pkl')\n",
    "        \n",
    "        y_valid_pred_total += y_pred_valid\n",
    "        \n",
    "        modelos.append(model)\n",
    "        gc.collect()\n",
    "     \n",
    "    #++++++++++++++\n",
    "    y_valid_pred_total = y_valid_pred_total/len(modelos)\n",
    "    print('RMSE:', np.sqrt(mean_squared_error( np.clip(leak_valid_y, 0, np.max(leak_valid_y)),\n",
    "                                              np.clip(y_valid_pred_total, 0,np.max(y_valid_pred_total) ))))\n",
    "    \n",
    "    return modelos\n",
    "    \n",
    "#-------------------------------------------------------------------------------------------------------------\n",
    "def kfolds(X_train, y_train, kf, libreria='cat'):\n",
    "\n",
    "    n_folds = 0\n",
    "    y_valid_pred_total = np.zeros(X_train.shape[0])\n",
    "    modelos = []\n",
    "    for train_idx, valid_idx in kf.split(X_train, y_train, groups=X_train[group_folds_label]): #kf.split(...)\n",
    "        print('Folds --> ', n_folds)\n",
    "        n_folds += 1\n",
    "        X_train_fold, y_train_fold = X_train.iloc[train_idx,:], y_train[train_idx]\n",
    "        X_valid_fold, y_valid_fold = X_train.iloc[valid_idx,:], y_train[valid_idx]\n",
    "        print('train', len(train_idx), 'valid', len(valid_idx))\n",
    "        #--------------------------------------------------------------------------------------------\n",
    "        d_train = lgb.Dataset(X_train_fold, label=y_train_fold, categorical_feature=CATEGORY_COLS)\n",
    "        d_valid = lgb.Dataset(X_valid_fold, label=y_valid_fold, categorical_feature=CATEGORY_COLS)\n",
    "        watchlist = [d_train, d_valid]\n",
    "\n",
    "        model, log = LIGHTGBM_model(metric, params, d_train, watchlist)\n",
    "\n",
    "        y_pred_valid = model.predict(X_valid_fold, num_iteration=model.best_iteration)\n",
    "\n",
    "        plot_fi(model)\n",
    "        #--------------------------------------------------------------------------------------------\n",
    "        # save model\n",
    "        joblib.dump(model, LIBRERIA + '_' + str(n_folds) + '.pkl')\n",
    "        #model.save_model(LIBRERIA + '_' + str(n_folds) + '.txt')\n",
    "        \n",
    "        y_valid_pred_total[valid_idx] = y_pred_valid\n",
    "        \n",
    "        modelos.append(model)\n",
    "        gc.collect()\n",
    "     \n",
    "    #++++++++++++++\n",
    "    print('RMSE:', np.sqrt(mean_squared_error( np.clip(y_train, 0, np.max(y_train)),\n",
    "                                              np.clip(y_valid_pred_total, 0,np.max(y_valid_pred_total) ))))\n",
    "    return modelos\n",
    "#-------------------------------------------------------------------------------------------------------------\n",
    "#TODO\n",
    "def Stratify_kfolds(X_train, y_train, kf):\n",
    "\n",
    "    n_folds = 0\n",
    "    y_valid_pred_total = np.zeros(X_train.shape[0])\n",
    "    modelos = []\n",
    "    for train_idx, valid_idx in tqdm(kf.split(X_train, X_train['group']), total = 3):\n",
    "        print('Folds --> ', n_folds)\n",
    "        n_folds += 1\n",
    "        X_train_fold, y_train_fold = X_train.iloc[train_idx,:], y_train[train_idx]\n",
    "        X_valid_fold, y_valid_fold = X_train.iloc[valid_idx,:], y_train[valid_idx]\n",
    "        print('train', len(train_idx), 'valid', len(valid_idx))\n",
    "        #--------------------------------------------------------------------------------------------\n",
    "        d_train = lgb.Dataset(X_train_fold, label=y_train_fold, categorical_feature=CATEGORY_COLS)\n",
    "        d_valid = lgb.Dataset(X_valid_fold, label=y_valid_fold, categorical_feature=CATEGORY_COLS)\n",
    "        watchlist = [d_train, d_valid]\n",
    "\n",
    "        model, log = LIGHTGBM_model(metric, params, d_train, watchlist)\n",
    "\n",
    "        y_pred_valid = model.predict(X_valid_fold, num_iteration=model.best_iteration)\n",
    "\n",
    "        plot_fi(model)\n",
    "        #--------------------------------------------------------------------------------------------\n",
    "        # save model\n",
    "        joblib.dump(model, LIBRERIA + '_' + str(n_folds) + '.pkl')\n",
    "        #model.save_model(LIBRERIA + '_' + str(n_folds) + '.txt')\n",
    "        \n",
    "        y_valid_pred_total[valid_idx] = y_pred_valid\n",
    "        \n",
    "        modelos.append(model)\n",
    "        gc.collect()\n",
    "     \n",
    "    #++++++++++++++\n",
    "    print('RMSE:', np.sqrt(mean_squared_error( np.clip(y_train, 0, np.max(y_train)),\n",
    "                                              np.clip(y_valid_pred_total, 0,np.max(y_valid_pred_total) ))))\n",
    "    return modelos\n"
   ]
  },
  {
   "cell_type": "markdown",
   "metadata": {
    "_cell_guid": "e5bfc513-0e06-46fa-abd3-24958679a1b3",
    "_uuid": "99a3ff01-62df-403c-b2fd-50b7c9b1e4a7"
   },
   "source": [
    "Aqui entrenamos\n",
    "----"
   ]
  },
  {
   "cell_type": "code",
   "execution_count": 28,
   "metadata": {},
   "outputs": [],
   "source": [
    "if DO_TRAIN == True:\n",
    "    X_train.head()"
   ]
  },
  {
   "cell_type": "code",
   "execution_count": 29,
   "metadata": {
    "_cell_guid": "3a6ed1da-57a1-495b-a990-8396373cba8b",
    "_uuid": "85c105e1-9dc5-4ed6-9664-fd502911e11d"
   },
   "outputs": [
    {
     "name": "stdout",
     "output_type": "stream",
     "text": [
      "Folds -->  0\n",
      "train 13244340 valid 6622170\n",
      "Lightgbm model\n"
     ]
    },
    {
     "name": "stderr",
     "output_type": "stream",
     "text": [
      "/opt/conda/lib/python3.6/site-packages/lightgbm/basic.py:1243: UserWarning: Using categorical_feature in Dataset.\n",
      "  warnings.warn('Using categorical_feature in Dataset.')\n"
     ]
    },
    {
     "name": "stdout",
     "output_type": "stream",
     "text": [
      "Training until validation scores don't improve for 500 rounds\n",
      "[200]\ttraining's rmse: 1.25224\tvalid_1's rmse: 1.36931\n",
      "[400]\ttraining's rmse: 0.999468\tvalid_1's rmse: 1.17745\n",
      "[600]\ttraining's rmse: 0.910382\tvalid_1's rmse: 1.13241\n",
      "[800]\ttraining's rmse: 0.862201\tvalid_1's rmse: 1.11935\n",
      "[1000]\ttraining's rmse: 0.830308\tvalid_1's rmse: 1.11546\n",
      "[1200]\ttraining's rmse: 0.807685\tvalid_1's rmse: 1.11542\n",
      "[1400]\ttraining's rmse: 0.791478\tvalid_1's rmse: 1.11583\n",
      "Early stopping, best iteration is:\n",
      "[1081]\ttraining's rmse: 0.820159\tvalid_1's rmse: 1.1151\n",
      "best_score defaultdict(<class 'collections.OrderedDict'>, {'training': OrderedDict([('rmse', 0.820159388638609)]), 'valid_1': OrderedDict([('rmse', 1.1151045483197137)])})\n",
      "Folds -->  1\n",
      "train 13244340 valid 6622170\n",
      "Lightgbm model\n",
      "Training until validation scores don't improve for 500 rounds\n",
      "[200]\ttraining's rmse: 1.24787\tvalid_1's rmse: 1.34059\n",
      "[400]\ttraining's rmse: 0.994204\tvalid_1's rmse: 1.13162\n",
      "[600]\ttraining's rmse: 0.914843\tvalid_1's rmse: 1.06781\n",
      "[800]\ttraining's rmse: 0.87776\tvalid_1's rmse: 1.04249\n",
      "[1000]\ttraining's rmse: 0.85338\tvalid_1's rmse: 1.0315\n",
      "[1200]\ttraining's rmse: 0.833863\tvalid_1's rmse: 1.02684\n",
      "[1400]\ttraining's rmse: 0.819975\tvalid_1's rmse: 1.02511\n",
      "[1600]\ttraining's rmse: 0.809799\tvalid_1's rmse: 1.02393\n",
      "[1800]\ttraining's rmse: 0.801892\tvalid_1's rmse: 1.02296\n",
      "[2000]\ttraining's rmse: 0.79523\tvalid_1's rmse: 1.0224\n",
      "[2200]\ttraining's rmse: 0.789778\tvalid_1's rmse: 1.02225\n",
      "[2400]\ttraining's rmse: 0.783902\tvalid_1's rmse: 1.02205\n",
      "[2600]\ttraining's rmse: 0.778988\tvalid_1's rmse: 1.02186\n",
      "[2800]\ttraining's rmse: 0.774586\tvalid_1's rmse: 1.02176\n",
      "[3000]\ttraining's rmse: 0.770349\tvalid_1's rmse: 1.02188\n",
      "[3200]\ttraining's rmse: 0.766774\tvalid_1's rmse: 1.02174\n",
      "[3400]\ttraining's rmse: 0.76394\tvalid_1's rmse: 1.02179\n",
      "[3600]\ttraining's rmse: 0.761555\tvalid_1's rmse: 1.02174\n",
      "[3800]\ttraining's rmse: 0.758943\tvalid_1's rmse: 1.02165\n",
      "[4000]\ttraining's rmse: 0.756676\tvalid_1's rmse: 1.0216\n",
      "[4200]\ttraining's rmse: 0.754248\tvalid_1's rmse: 1.02164\n",
      "[4400]\ttraining's rmse: 0.752006\tvalid_1's rmse: 1.0216\n",
      "[4600]\ttraining's rmse: 0.749647\tvalid_1's rmse: 1.02157\n",
      "[4800]\ttraining's rmse: 0.747237\tvalid_1's rmse: 1.0215\n",
      "[5000]\ttraining's rmse: 0.744798\tvalid_1's rmse: 1.02138\n",
      "[5200]\ttraining's rmse: 0.742617\tvalid_1's rmse: 1.02143\n",
      "[5400]\ttraining's rmse: 0.740413\tvalid_1's rmse: 1.02134\n",
      "[5600]\ttraining's rmse: 0.738306\tvalid_1's rmse: 1.0214\n",
      "[5800]\ttraining's rmse: 0.735859\tvalid_1's rmse: 1.02149\n",
      "Early stopping, best iteration is:\n",
      "[5387]\ttraining's rmse: 0.740555\tvalid_1's rmse: 1.02133\n",
      "best_score defaultdict(<class 'collections.OrderedDict'>, {'training': OrderedDict([('rmse', 0.7405554943253191)]), 'valid_1': OrderedDict([('rmse', 1.0213273905502769)])})\n",
      "Folds -->  2\n",
      "train 13244340 valid 6622170\n",
      "Lightgbm model\n",
      "Training until validation scores don't improve for 500 rounds\n",
      "[200]\ttraining's rmse: 1.23542\tvalid_1's rmse: 1.35737\n",
      "[400]\ttraining's rmse: 0.96694\tvalid_1's rmse: 1.18001\n",
      "[600]\ttraining's rmse: 0.873503\tvalid_1's rmse: 1.14293\n",
      "[800]\ttraining's rmse: 0.821707\tvalid_1's rmse: 1.13448\n",
      "[1000]\ttraining's rmse: 0.78944\tvalid_1's rmse: 1.13331\n",
      "[1200]\ttraining's rmse: 0.765399\tvalid_1's rmse: 1.1348\n",
      "[1400]\ttraining's rmse: 0.74844\tvalid_1's rmse: 1.13677\n",
      "Early stopping, best iteration is:\n",
      "[981]\ttraining's rmse: 0.79234\tvalid_1's rmse: 1.13322\n",
      "best_score defaultdict(<class 'collections.OrderedDict'>, {'training': OrderedDict([('rmse', 0.7923398749189288)]), 'valid_1': OrderedDict([('rmse', 1.1332238452914014)])})\n",
      "RMSE: 1.0908135764337845\n",
      "CPU times: user 22h 49min 33s, sys: 5min 29s, total: 22h 55min 2s\n",
      "Wall time: 5h 53min 57s\n"
     ]
    },
    {
     "data": {
      "image/png": "[encoded data removed]",
      "text/plain": [
       "<Figure size 576x576 with 1 Axes>"
      ]
     },
     "metadata": {
      "needs_background": "light"
     },
     "output_type": "display_data"
    },
    {
     "data": {
      "image/png": "[encoded data removed]",
      "text/plain": [
       "<Figure size 576x576 with 1 Axes>"
      ]
     },
     "metadata": {
      "needs_background": "light"
     },
     "output_type": "display_data"
    },
    {
     "data": {
      "image/png": "[encoded data removed]",
      "text/plain": [
       "<Figure size 576x576 with 1 Axes>"
      ]
     },
     "metadata": {
      "needs_background": "light"
     },
     "output_type": "display_data"
    }
   ],
   "source": [
    "%%time\n",
    "if DO_TRAIN == True:\n",
    "    modelos = kfolds(X_train, y_train, kf)\n",
    "    #modelos = Stratify_kfolds(X_train, y_train, skf)\n",
    "    #modelos = validate_with_leak(X_train, y_train)\n",
    "    #modelos =  leak_kfolds(X_train, y_train, kf)"
   ]
  },
  {
   "cell_type": "code",
   "execution_count": 30,
   "metadata": {},
   "outputs": [],
   "source": [
    "if DO_TRAIN == True:\n",
    "    del X_train, y_train\n",
    "    gc.collect()"
   ]
  },
  {
   "cell_type": "markdown",
   "metadata": {
    "_cell_guid": "271d15be-39eb-480e-beee-55a907f48f35",
    "_uuid": "3344c390-9730-4009-8372-7268f05d8128"
   },
   "source": [
    "## Preparing test data\n",
    "# # Preparing test data with same features as train data."
   ]
  },
  {
   "cell_type": "code",
   "execution_count": 31,
   "metadata": {
    "_cell_guid": "82c93e89-4adb-41c7-9e96-130a71588863",
    "_uuid": "76bdab25-7a4a-4a01-b465-ff60530f0a54"
   },
   "outputs": [
    {
     "name": "stdout",
     "output_type": "stream",
     "text": [
      "CPU times: user 0 ns, sys: 0 ns, total: 0 ns\n",
      "Wall time: 11.7 µs\n"
     ]
    }
   ],
   "source": [
    "%%time\n",
    "if DO_TEST == True:\n",
    "    df_test = pd.read_csv(path_test)\n",
    "    df_test['timestamp'] = pd.to_datetime(df_test['timestamp'])\n",
    "    #print('Calculando semana del mes...')\n",
    "    #df_test['weekofmonth'] = df_test['timestamp'].apply(get_week_of_month) #++\n",
    "    #df_test.loc[df_test.weekofmonth < 0, 'weekofmonth'] = 52 + df_test.loc[df_test.weekofmonth < 0, 'weekofmonth']\n",
    "\n",
    "    gc.collect()\n",
    "\n",
    "    #get_summer(df_test)\n",
    "    #get_winter(df_test)\n",
    "    is_weekend(df_test) #++\n",
    "\n",
    "    print('Temperatura test')\n",
    "    weather_test = pd.read_csv(path_weather_test)\n",
    "    #rellenar nans \n",
    "    weather_test = fill_weather_dataset(weather_test)\n",
    "    # a datetime\n",
    "    weather_test['timestamp'] = pd.to_datetime(weather_test['timestamp'])\n",
    "    # ajustar horas de temperaturas\n",
    "    weather_test = timestamp_align(weather_test)\n",
    "    \n",
    "    # temp features\n",
    "    humidity(weather_test)\n",
    "    #feels_like_df(weather_test)\n",
    "    \n",
    "    weather_test = create_lag_features(weather_test, 24)\n",
    "    # TODO probar +48\n",
    "\n",
    "    df_test = reduce_mem_usage(df_test)\n",
    "    weather_test = reduce_mem_usage(weather_test)\n",
    "    gc.collect()\n",
    "\n",
    "    print('Preparando datos')\n",
    "    X_test, row_ids = prepare_data(df_test, building, weather_test, test=True)\n",
    "\n",
    "    print(\"Test memory size: \",  X_test.memory_usage().sum() / 1024 / 1024)"
   ]
  },
  {
   "cell_type": "code",
   "execution_count": 32,
   "metadata": {
    "_cell_guid": "572c3c78-b3e0-4dab-8aa5-e1e3bb7d081e",
    "_kg_hide-input": true,
    "_kg_hide-output": true,
    "_uuid": "0aceb6bf-efbd-481a-9bb4-f8be04127165"
   },
   "outputs": [],
   "source": [
    "if DO_TEST == True:\n",
    "    del  df_test, building, weather_test\n",
    "    gc.collect()"
   ]
  },
  {
   "cell_type": "code",
   "execution_count": 33,
   "metadata": {},
   "outputs": [],
   "source": [
    "if DO_TEST == True:\n",
    "    print(X_test.isna().sum())"
   ]
  },
  {
   "cell_type": "markdown",
   "metadata": {
    "_cell_guid": "97fc2d64-1baa-4e61-8dc8-85d7f1e52d47",
    "_uuid": "e900c191-cda9-4af9-ba41-06590b55da85"
   },
   "source": [
    "## Scoring test data\n",
    "# # Averaging predictions from the two half train data models."
   ]
  },
  {
   "cell_type": "code",
   "execution_count": 34,
   "metadata": {
    "_cell_guid": "de4cb5c9-7c78-4ca4-a650-911f21fb438b",
    "_uuid": "11f55a56-7515-40a0-9816-6872bef0091b"
   },
   "outputs": [],
   "source": [
    "#---------------------------------------------------------------------------------------------------------------\n",
    "def pred_kfolds(X_test, models, batch_size=1000000):\n",
    "    iterations = (X_test.shape[0] + batch_size -1) // batch_size\n",
    "    print('iterations', iterations)\n",
    "\n",
    "    y_test_pred_total = np.zeros(X_test.shape[0])\n",
    "    print(models)\n",
    "    for i, model in enumerate(models):\n",
    "        print(f'predicting {i}-th model')\n",
    "        for k in tqdm(range(iterations)):\n",
    "            y_pred_test = model.predict(X_test[k*batch_size:(k+1)*batch_size], num_iteration=model.best_iteration)\n",
    "            y_test_pred_total[k*batch_size:(k+1)*batch_size] += y_pred_test\n",
    "            \n",
    "        del model\n",
    "        gc.collect()\n",
    "    \n",
    "\n",
    "    y_test_pred_total /= 3 # prediccion con media de modelos\n",
    "    return y_test_pred_total\n",
    "#---------------------------------------------------------------------------------------------------------------\n",
    "# predecir todo el vector\n",
    "def pred_todo(X_test, models):\n",
    "    \n",
    "    y_test_pred_total = np.zeros(X_test.shape[0])\n",
    "    for i, model in enumerate(models):\n",
    "        print(f'predicting {i}-th model')\n",
    "        y_test_pred_total += model.predict(X_test, num_iteration=model.best_iteration)\n",
    "        \n",
    "        del model\n",
    "        gc.collect()\n",
    "        \n",
    "    y_test_pred_total /= 3 # prediccion con media de modelos\n",
    "    return y_test_pred_total\n",
    "#---------------------------------------------------------------------------------------------------------------\n",
    "def pred_kfolds_from_dict(X_test, models, batch_size=1000000):\n",
    "    iterations = (X_test.shape[0] + batch_size -1) // batch_size\n",
    "    print('iterations', iterations)\n",
    "\n",
    "    y_test_pred_total = np.zeros(X_test.shape[0])\n",
    "    print(modelos)\n",
    "    for key, model in models.items():\n",
    "        #if key == 'lgb_2':\n",
    "        print('predicting '+ key + ' model')\n",
    "        print(model)\n",
    "        for k in tqdm(range(iterations)):\n",
    "            y_pred_test = model.predict(X_test[k*batch_size:(k+1)*batch_size], num_iteration=model.best_iteration)\n",
    "            y_test_pred_total[k*batch_size:(k+1)*batch_size] += y_pred_test\n",
    "\n",
    "        del model\n",
    "        gc.collect()\n",
    "    \n",
    "\n",
    "    y_test_pred_total /= 3 # prediccion con media de modelos\n",
    "    return y_test_pred_total"
   ]
  },
  {
   "cell_type": "code",
   "execution_count": 35,
   "metadata": {
    "_cell_guid": "92f0cf7e-3b7d-4ffc-8328-b82859d495c2",
    "_uuid": "9675cb6c-8160-48c7-b606-e2f32dd88dc0"
   },
   "outputs": [
    {
     "name": "stdout",
     "output_type": "stream",
     "text": [
      "CPU times: user 0 ns, sys: 0 ns, total: 0 ns\n",
      "Wall time: 20.5 µs\n"
     ]
    }
   ],
   "source": [
    "%%time\n",
    "from sklearn.externals import joblib\n",
    "\n",
    "PATH_dataset_modelos = '/kaggle/input/lgb-models-ashrae/modelos_v251/' #_v251\n",
    "\n",
    "if DO_TEST == True and DO_TRAIN == False:\n",
    "    modelos = {}\n",
    "    for file in os.listdir(PATH_dataset_modelos):\n",
    "        if file.endswith('.pkl'):\n",
    "            print(file)\n",
    "            lgb_pickle = joblib.load(PATH_dataset_modelos + file)                                                                                                                                                                                                                                                                           \n",
    "            # load model\n",
    "            #lgb_pickle = lgb.Booster(model_file='/kaggle/input/lgb-models-ashrae/' + file)\n",
    "            #modelos.append(lgb_pickle)\n",
    "            key = file.split('.')[0]\n",
    "            print(key)\n",
    "            modelos[key] = lgb_pickle\n",
    "            \n",
    "    del lgb_pickle\n",
    "    gc.collect()"
   ]
  },
  {
   "cell_type": "code",
   "execution_count": 36,
   "metadata": {},
   "outputs": [
    {
     "name": "stdout",
     "output_type": "stream",
     "text": [
      "CPU times: user 0 ns, sys: 0 ns, total: 0 ns\n",
      "Wall time: 11 µs\n"
     ]
    }
   ],
   "source": [
    "%%time\n",
    "if DO_TEST == True and DO_TRAIN == False:\n",
    "    pred = np.expm1(pred_kfolds_from_dict(X_test, modelos)) \n",
    "\n",
    "if DO_TEST == True and DO_TRAIN == True:\n",
    "    pred = np.expm1(pred_kfolds(X_test, modelos)) "
   ]
  },
  {
   "cell_type": "markdown",
   "metadata": {
    "_cell_guid": "4fff1d8f-c508-4a37-ae5a-37c86bff1410",
    "_uuid": "a986bfe6-6756-4e1d-9fab-8314947d2296"
   },
   "source": [
    "## Submission\n",
    "# # Preparing final file for submission."
   ]
  },
  {
   "cell_type": "code",
   "execution_count": 37,
   "metadata": {
    "_cell_guid": "8bb62888-2077-4ac5-a3a3-c4d35ebc8ad7",
    "_uuid": "879525f3-7201-4ef1-b259-e565ca2eb350"
   },
   "outputs": [],
   "source": [
    "if DO_TEST == True:\n",
    "    submission = pd.DataFrame({\"row_id\": row_ids, \"meter_reading\": np.clip(pred, 0, a_max=None)})\n",
    "    submission['meter_reading'] = submission['meter_reading'].clip(lower=0)\n",
    "    print(submission.head(15))\n"
   ]
  },
  {
   "cell_type": "code",
   "execution_count": 38,
   "metadata": {
    "_cell_guid": "eb31ad6b-42dc-418b-afe2-65a60561e920",
    "_uuid": "73206f38-5283-4d59-bfc0-704808f154a8"
   },
   "outputs": [],
   "source": [
    "if DO_TEST == True:\n",
    "    submission.to_csv(\"submission_lgb2_v251_2.csv\", index=False)"
   ]
  },
  {
   "cell_type": "code",
   "execution_count": 39,
   "metadata": {
    "_cell_guid": "",
    "_uuid": ""
   },
   "outputs": [],
   "source": [
    "import pandas as pd\n",
    "site_ids = pd.read_csv(\"../input/ashrae-cities-and-timezones/site_ids.csv\")"
   ]
  }
 ],
 "metadata": {
  "kernelspec": {
   "display_name": "Python 3",
   "language": "python",
   "name": "python3"
  },
  "language_info": {
   "codemirror_mode": {
    "name": "ipython",
    "version": 3
   },
   "file_extension": ".py",
   "mimetype": "text/x-python",
   "name": "python",
   "nbconvert_exporter": "python",
   "pygments_lexer": "ipython3",
   "version": "3.6.6"
  }
 },
 "nbformat": 4,
 "nbformat_minor": 1
}
